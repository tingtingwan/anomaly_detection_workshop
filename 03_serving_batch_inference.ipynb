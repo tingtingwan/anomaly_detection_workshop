{
 "cells": [
  {
   "cell_type": "markdown",
   "metadata": {
    "application/vnd.databricks.v1+cell": {
     "cellMetadata": {
      "byteLimit": 2048000,
      "rowLimit": 10000
     },
     "inputWidgets": {},
     "nuid": "6ffdd4fe-87a7-40bf-ba4f-3507fcaf0100",
     "showTitle": false,
     "tableResultSettingsMap": {},
     "title": ""
    }
   },
   "source": [
    "# Model Serving & AI Functions for Batch Inference"
   ]
  },
  {
   "cell_type": "code",
   "execution_count": 0,
   "metadata": {
    "application/vnd.databricks.v1+cell": {
     "cellMetadata": {
      "byteLimit": 2048000,
      "rowLimit": 10000
     },
     "inputWidgets": {},
     "nuid": "ebdc9b53-f6f9-44e9-adf5-5bc44f4679a7",
     "showTitle": false,
     "tableResultSettingsMap": {},
     "title": ""
    }
   },
   "outputs": [],
   "source": [
    "import mlflow.pyfunc\n",
    "from pyspark.sql.functions import struct, col\n",
    "from pyspark.sql.types import StringType\n",
    "import pyspark.sql.functions as F"
   ]
  },
  {
   "cell_type": "markdown",
   "metadata": {
    "application/vnd.databricks.v1+cell": {
     "cellMetadata": {
      "byteLimit": 2048000,
      "rowLimit": 10000
     },
     "inputWidgets": {},
     "nuid": "5663e634-7575-4784-861c-749f0976b4eb",
     "showTitle": false,
     "tableResultSettingsMap": {},
     "title": ""
    }
   },
   "source": [
    "## Create UDF for Batch Scoring"
   ]
  },
  {
   "cell_type": "code",
   "execution_count": 0,
   "metadata": {
    "application/vnd.databricks.v1+cell": {
     "cellMetadata": {
      "byteLimit": 2048000,
      "rowLimit": 10000
     },
     "inputWidgets": {},
     "nuid": "f5b63eac-65ac-4e17-b431-7aab8c1c2db4",
     "showTitle": false,
     "tableResultSettingsMap": {},
     "title": ""
    }
   },
   "outputs": [
    {
     "output_type": "display_data",
     "data": {
      "application/vnd.jupyter.widget-view+json": {
       "model_id": "1df8265463b743dd915b9d0190abefb0",
       "version_major": 2,
       "version_minor": 0
      },
      "text/plain": [
       "Downloading artifacts:   0%|          | 0/1 [00:00<?, ?it/s]"
      ]
     },
     "metadata": {},
     "output_type": "display_data"
    },
    {
     "output_type": "display_data",
     "data": {
      "application/vnd.jupyter.widget-view+json": {
       "model_id": "2cc67419948545cba13af18135e56cfd",
       "version_major": 2,
       "version_minor": 0
      },
      "text/plain": [
       "Downloading artifacts:   0%|          | 0/11 [00:00<?, ?it/s]"
      ]
     },
     "metadata": {},
     "output_type": "display_data"
    },
    {
     "output_type": "stream",
     "name": "stderr",
     "output_type": "stream",
     "text": [
      "2025/08/04 17:41:58 WARNING mlflow.pyfunc: Calling `spark_udf()` with `env_manager=\"local\"` does not recreate the same environment that was used during training, which may lead to errors or inaccurate predictions. We recommend specifying `env_manager=\"conda\"`, which automatically recreates the environment that was used to train the model and performs inference in the recreated environment.\n"
     ]
    },
    {
     "output_type": "display_data",
     "data": {
      "application/vnd.jupyter.widget-view+json": {
       "model_id": "ce409d3fb94a431ab387824cb019933d",
       "version_major": 2,
       "version_minor": 0
      },
      "text/plain": [
       "Downloading artifacts:   0%|          | 0/12 [00:00<?, ?it/s]"
      ]
     },
     "metadata": {},
     "output_type": "display_data"
    },
    {
     "output_type": "stream",
     "name": "stderr",
     "output_type": "stream",
     "text": [
      "2025/08/04 17:41:58 INFO mlflow.models.flavor_backend_registry: Selected backend for flavor 'python_function'\n"
     ]
    },
    {
     "output_type": "execute_result",
     "data": {
      "text/plain": [
       "<pyspark.sql.udf.UserDefinedFunction at 0x7f1f08749590>"
      ]
     },
     "execution_count": 25,
     "metadata": {},
     "output_type": "execute_result"
    }
   ],
   "source": [
    "# Load best model from registry\n",
    "model_name = \"main.ttw_workshop_demo.customer_anomaly_detector\"\n",
    "champion_uri = f\"models:/{model_name}@champion\"\n",
    "\n",
    "# This will automatically enforce the model’s input schema\n",
    "predict_udf = mlflow.pyfunc.spark_udf(\n",
    "    spark,\n",
    "    champion_uri,\n",
    ")\n",
    "\n",
    "# Register for SQL usage\n",
    "spark.udf.register(\"predict_customer_anomaly\", predict_udf)\n"
   ]
  },
  {
   "cell_type": "markdown",
   "metadata": {
    "application/vnd.databricks.v1+cell": {
     "cellMetadata": {
      "byteLimit": 2048000,
      "rowLimit": 10000
     },
     "inputWidgets": {},
     "nuid": "1a9a4c89-e801-462b-887c-0012dfc72940",
     "showTitle": false,
     "tableResultSettingsMap": {},
     "title": ""
    }
   },
   "source": [
    "## Batch Inference"
   ]
  },
  {
   "cell_type": "code",
   "execution_count": 0,
   "metadata": {
    "application/vnd.databricks.v1+cell": {
     "cellMetadata": {
      "byteLimit": 2048000,
      "rowLimit": 10000
     },
     "inputWidgets": {},
     "nuid": "896ffd0a-44d2-45a1-88e0-8b04778eaac0",
     "showTitle": false,
     "tableResultSettingsMap": {},
     "title": ""
    }
   },
   "outputs": [
    {
     "output_type": "display_data",
     "data": {
      "application/vnd.jupyter.widget-view+json": {
       "model_id": "1ab3beca314f4a1db4a26443ef604205",
       "version_major": 2,
       "version_minor": 0
      },
      "text/plain": [
       "Downloading artifacts:   0%|          | 0/11 [00:00<?, ?it/s]"
      ]
     },
     "metadata": {},
     "output_type": "display_data"
    },
    {
     "output_type": "display_data",
     "data": {
      "text/html": [
       "<style scoped>\n",
       "  .table-result-container {\n",
       "    max-height: 300px;\n",
       "    overflow: auto;\n",
       "  }\n",
       "  table, th, td {\n",
       "    border: 1px solid black;\n",
       "    border-collapse: collapse;\n",
       "  }\n",
       "  th, td {\n",
       "    padding: 5px;\n",
       "  }\n",
       "  th {\n",
       "    text-align: left;\n",
       "  }\n",
       "</style><div class='table-result-container'><table class='table-result'><thead style='background-color: white'><tr><th>Customer_ID</th><th>engagement_score</th><th>anomaly_status</th></tr></thead><tbody><tr><td>bdd640fb06674ad19c80317fa3b1799d</td><td>3.3690000534057614</td><td>NORMAL</td></tr><tr><td>1a3d1fa7bc8940a9a3b8c1e9392456de</td><td>5.53899998664856</td><td>NORMAL</td></tr><tr><td>972a846916414f828b9d2434e465e150</td><td>3.6450000166893</td><td>NORMAL</td></tr><tr><td>3b8faa1837f8488b97fc695a07a0ca6e</td><td>16.26400032043457</td><td>NORMAL</td></tr><tr><td>b74d0fb132e746298fadc1a606cb0fb3</td><td>8.966000080108643</td><td>NORMAL</td></tr><tr><td>72ff5d2a386e4be0ab65a6a48b8148f6</td><td>5.3149998664855955</td><td>NORMAL</td></tr><tr><td>c241330b01a9471f9e8a774bcf36d58b</td><td>5.966000080108643</td><td>NORMAL</td></tr><tr><td>47229389571a4876ac307511b2b9437a</td><td>8.835000133514404</td><td>NORMAL</td></tr><tr><td>1a2a73ed562b4f79837459eef50bea63</td><td>7.002999973297118</td><td>NORMAL</td></tr><tr><td>580d7b71d8f544139be6128e18c26797</td><td>10.277999973297119</td><td>NORMAL</td></tr></tbody></table></div>"
      ]
     },
     "metadata": {
      "application/vnd.databricks.v1+output": {
       "addedWidgets": {},
       "aggData": [],
       "aggError": "",
       "aggOverflow": false,
       "aggSchema": [],
       "aggSeriesLimitReached": false,
       "aggType": "",
       "arguments": {},
       "columnCustomDisplayInfos": {},
       "data": [
        [
         "bdd640fb06674ad19c80317fa3b1799d",
         3.3690000534057614,
         "NORMAL"
        ],
        [
         "1a3d1fa7bc8940a9a3b8c1e9392456de",
         5.53899998664856,
         "NORMAL"
        ],
        [
         "972a846916414f828b9d2434e465e150",
         3.6450000166893,
         "NORMAL"
        ],
        [
         "3b8faa1837f8488b97fc695a07a0ca6e",
         16.26400032043457,
         "NORMAL"
        ],
        [
         "b74d0fb132e746298fadc1a606cb0fb3",
         8.966000080108643,
         "NORMAL"
        ],
        [
         "72ff5d2a386e4be0ab65a6a48b8148f6",
         5.3149998664855955,
         "NORMAL"
        ],
        [
         "c241330b01a9471f9e8a774bcf36d58b",
         5.966000080108643,
         "NORMAL"
        ],
        [
         "47229389571a4876ac307511b2b9437a",
         8.835000133514404,
         "NORMAL"
        ],
        [
         "1a2a73ed562b4f79837459eef50bea63",
         7.002999973297118,
         "NORMAL"
        ],
        [
         "580d7b71d8f544139be6128e18c26797",
         10.277999973297119,
         "NORMAL"
        ]
       ],
       "datasetInfos": [],
       "dbfsResultPath": null,
       "isJsonSchema": true,
       "metadata": {},
       "overflow": false,
       "plotOptions": {
        "customPlotOptions": {},
        "displayType": "table",
        "pivotAggregation": null,
        "pivotColumns": null,
        "xColumns": null,
        "yColumns": null
       },
       "removedWidgets": [],
       "schema": [
        {
         "metadata": "{}",
         "name": "Customer_ID",
         "type": "\"string\""
        },
        {
         "metadata": "{}",
         "name": "engagement_score",
         "type": "\"double\""
        },
        {
         "metadata": "{}",
         "name": "anomaly_status",
         "type": "\"string\""
        }
       ],
       "type": "table"
      }
     },
     "output_type": "display_data"
    }
   ],
   "source": [
    "# Apply batch inference\n",
    "inference_df = spark.table(\"main.ttw_workshop_demo.customer_features\")\n",
    "\n",
    "champion_model = mlflow.pyfunc.load_model(champion_uri)\n",
    "\n",
    "preds_df = inference_df.withColumn(\n",
    "    \"anomaly_prediction\",\n",
    "    predict_udf(*champion_model.metadata.get_input_schema().input_names())\n",
    ").withColumn(\n",
    "    \"anomaly_status\",\n",
    "    F.when(F.col(\"anomaly_prediction\") == -1, \"ANOMALY\")\n",
    "     .otherwise(\"NORMAL\")\n",
    ")\n",
    "\n",
    "# Persist results\n",
    "preds_df.write.mode(\"overwrite\").saveAsTable(\"main.ttw_workshop_demo.batch_predictions\")\n",
    "\n",
    "display(preds_df.select(\"Customer_ID\", \"engagement_score\", \"anomaly_status\").limit(10))"
   ]
  },
  {
   "cell_type": "code",
   "execution_count": 0,
   "metadata": {
    "application/vnd.databricks.v1+cell": {
     "cellMetadata": {},
     "inputWidgets": {},
     "nuid": "fd9016ac-d7a2-4bfb-9020-77e51942865d",
     "showTitle": false,
     "tableResultSettingsMap": {},
     "title": ""
    }
   },
   "outputs": [],
   "source": []
  }
 ],
 "metadata": {
  "application/vnd.databricks.v1+notebook": {
   "computePreferences": null,
   "dashboards": [],
   "environmentMetadata": null,
   "inputWidgetPreferences": null,
   "language": "python",
   "notebookMetadata": {
    "pythonIndentUnit": 2
   },
   "notebookName": "03_serving_batch_inference",
   "widgets": {}
  },
  "kernelspec": {
   "display_name": "Python 3",
   "language": "python",
   "name": "python3"
  },
  "language_info": {
   "name": "python"
  }
 },
 "nbformat": 4,
 "nbformat_minor": 0
}
