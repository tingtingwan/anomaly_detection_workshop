{
 "cells": [
  {
   "cell_type": "code",
   "execution_count": 0,
   "metadata": {
    "application/vnd.databricks.v1+cell": {
     "cellMetadata": {
      "byteLimit": 2048000,
      "implicitDf": true,
      "rowLimit": 10000
     },
     "inputWidgets": {},
     "nuid": "e3e2ce2f-9bf3-45de-b26f-a2ad3837abc1",
     "showTitle": false,
     "tableResultSettingsMap": {},
     "title": ""
    }
   },
   "outputs": [],
   "source": [
    "# %sql\n",
    "# -- Create volume for JSON file storage\n",
    "# CREATE VOLUME IF NOT EXISTS {CATALOG_NAME}.{SCHEMA_NAME}.customer_json_files;\n"
   ]
  },
  {
   "cell_type": "code",
   "execution_count": 0,
   "metadata": {
    "application/vnd.databricks.v1+cell": {
     "cellMetadata": {
      "byteLimit": 2048000,
      "rowLimit": 10000
     },
     "inputWidgets": {},
     "nuid": "edeeefa2-9b60-443c-ab4b-04cb71c888ba",
     "showTitle": false,
     "tableResultSettingsMap": {},
     "title": ""
    }
   },
   "outputs": [
    {
     "output_type": "stream",
     "name": "stdout",
     "output_type": "stream",
     "text": [
      "✅ Generated 3 JSON files with 30 total records in /Volumes/{CATALOG_NAME}/{SCHEMA_NAME}/customer_json_files/\nDLT pipeline will auto-detect and process these files!\n"
     ]
    }
   ],
   "source": [
    "# Generate synthetic JSON files that simulate real-time customer events\n",
    "import json\n",
    "import uuid\n",
    "import random\n",
    "from datetime import datetime, timedelta\n",
    "\n",
    "def generate_customer_json():\n",
    "    \"\"\"Generate a single customer record as JSON\"\"\"\n",
    "    return {\n",
    "        \"Customer_ID\": str(uuid.uuid4()),\n",
    "        \"Last_Login_Date\": (datetime.today() - timedelta(days=random.randint(0,60))).strftime(\"%Y-%m-%d\"),\n",
    "        \"Ebooks_Downloaded_6_Months\": random.randint(0,50),\n",
    "        \"Average_Session_Time\": round(random.uniform(0.5, 60.0), 2),\n",
    "        \"Subscription_Plan_Type\": random.choice([\"Premium\",\"Standard\",\"Basic\"]),\n",
    "        \"Primary_Discipline\": random.choice([\"Science\",\"Arts\",\"Engineering\",\"Business\"]),\n",
    "        \"Days_Since_Last_Activity\": round(random.uniform(0,60), 2),\n",
    "        \"event_timestamp\": datetime.now().isoformat()\n",
    "    }\n",
    "\n",
    "# Generate multiple JSON files (simulating file drops)\n",
    "def create_batch_files():\n",
    "    timestamp = datetime.now().strftime(\"%Y%m%d_%H%M%S\")\n",
    "    \n",
    "    # Create 3 files with 10 records each (simulating small batches)\n",
    "    for file_num in range(3):\n",
    "        records = [generate_customer_json() for _ in range(10)]\n",
    "        \n",
    "        # Write to volume path\n",
    "        filename = f\"customer_batch_{timestamp}_{file_num}.json\"\n",
    "        file_path = f\"/Volumes/{CATALOG_NAME}/{SCHEMA_NAME}/customer_json_files/{filename}\"\n",
    "        \n",
    "        # Write JSON Lines format (one JSON per line)\n",
    "        with open(file_path, 'w') as f:\n",
    "            for record in records:\n",
    "                f.write(json.dumps(record) + '\\n')\n",
    "    \n",
    "    print(f\"✅ Generated 3 JSON files with 30 total records in /Volumes/{CATALOG_NAME}/{SCHEMA_NAME}/customer_json_files/\")\n",
    "    print(\"DLT pipeline will auto-detect and process these files!\")\n",
    "\n",
    "# Execute this to generate files\n",
    "create_batch_files()\n"
   ]
  }
 ],
 "metadata": {
  "application/vnd.databricks.v1+notebook": {
   "computePreferences": {
    "hardware": {
     "accelerator": null,
     "gpuPoolId": null,
     "memory": null
    }
   },
   "dashboards": [],
   "environmentMetadata": {
    "base_environment": "",
    "environment_version": "2"
   },
   "inputWidgetPreferences": null,
   "language": "python",
   "notebookMetadata": {
    "mostRecentlyExecutedCommandWithImplicitDF": {
     "commandId": -1,
     "dataframes": [
      "_sqldf"
     ]
    },
    "pythonIndentUnit": 2
   },
   "notebookName": "00_synthetic_data_generator",
   "widgets": {}
  },
  "language_info": {
   "name": "python"
  }
 },
 "nbformat": 4,
 "nbformat_minor": 0
}
