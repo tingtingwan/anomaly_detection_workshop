{
 "cells": [
  {
   "cell_type": "markdown",
   "metadata": {
    "application/vnd.databricks.v1+cell": {
     "cellMetadata": {
      "byteLimit": 2048000,
      "rowLimit": 10000
     },
     "inputWidgets": {},
     "nuid": "195b327c-78f1-403c-bad8-750efd615cfe",
     "showTitle": false,
     "tableResultSettingsMap": {},
     "title": ""
    }
   },
   "source": [
    "# Feature Engineering for Customer Anomaly Detection\n",
    "### Extract features from customer usage data for anomaly detection"
   ]
  },
  {
   "cell_type": "code",
   "execution_count": 0,
   "metadata": {
    "application/vnd.databricks.v1+cell": {
     "cellMetadata": {
      "byteLimit": 2048000,
      "rowLimit": 10000
     },
     "inputWidgets": {},
     "nuid": "12fa8af9-b666-4ce3-a916-0baf9a146ebb",
     "showTitle": false,
     "tableResultSettingsMap": {},
     "title": ""
    }
   },
   "outputs": [],
   "source": [
    "# Import required libraries\n",
    "import pandas as pd\n",
    "from databricks.feature_engineering import FeatureEngineeringClient\n",
    "from pyspark.sql import functions as F\n",
    "from pyspark.sql.types import *\n",
    "import datetime\n",
    "\n",
    "# Initialize Feature Engineering client\n",
    "fe = FeatureEngineeringClient()"
   ]
  },
  {
   "cell_type": "markdown",
   "metadata": {
    "application/vnd.databricks.v1+cell": {
     "cellMetadata": {
      "byteLimit": 2048000,
      "rowLimit": 10000
     },
     "inputWidgets": {},
     "nuid": "27bd1f21-4a10-4223-b836-e22a73fa943e",
     "showTitle": false,
     "tableResultSettingsMap": {},
     "title": ""
    }
   },
   "source": [
    "## Data Loading and Exploration"
   ]
  },
  {
   "cell_type": "code",
   "execution_count": 0,
   "metadata": {
    "application/vnd.databricks.v1+cell": {
     "cellMetadata": {
      "byteLimit": 2048000,
      "rowLimit": 10000
     },
     "inputWidgets": {},
     "nuid": "bf55ba30-e965-4e19-9975-53154d2d9182",
     "showTitle": false,
     "tableResultSettingsMap": {},
     "title": ""
    }
   },
   "outputs": [],
   "source": [
    "# Define catalog, schema and table names\n",
    "catalog_name = 'main'\n",
    "schema_name = 'ttw_workshop_demo'\n",
    "source_table = f\"{catalog_name}.{schema_name}.customer_sample_table\"\n",
    "feature_table_name = f\"{catalog_name}.{schema_name}.customer_features\"\n"
   ]
  },
  {
   "cell_type": "code",
   "execution_count": 0,
   "metadata": {
    "application/vnd.databricks.v1+cell": {
     "cellMetadata": {
      "byteLimit": 2048000,
      "rowLimit": 10000
     },
     "inputWidgets": {},
     "nuid": "6ea0973f-b0fe-4169-8a44-085f449529f6",
     "showTitle": false,
     "tableResultSettingsMap": {},
     "title": ""
    }
   },
   "outputs": [
    {
     "output_type": "display_data",
     "data": {
      "text/html": [
       "<style scoped>\n",
       "  .table-result-container {\n",
       "    max-height: 300px;\n",
       "    overflow: auto;\n",
       "  }\n",
       "  table, th, td {\n",
       "    border: 1px solid black;\n",
       "    border-collapse: collapse;\n",
       "  }\n",
       "  th, td {\n",
       "    padding: 5px;\n",
       "  }\n",
       "  th {\n",
       "    text-align: left;\n",
       "  }\n",
       "</style><div class='table-result-container'><table class='table-result'><thead style='background-color: white'><tr><th>Customer_ID</th><th>Last_Login_Date</th><th>Ebooks_Downloaded_6_Months</th><th>Average_Session_Time</th><th>Subscription_Plan_Type</th><th>Primary_Discipline</th><th>Days_Since_Last_Activity</th></tr></thead><tbody><tr><td>bdd640fb06674ad19c80317fa3b1799d</td><td>2025-02-28</td><td>5</td><td>2.67</td><td>institutional</td><td>STEM</td><td>9.0</td></tr><tr><td>1a3d1fa7bc8940a9a3b8c1e9392456de</td><td>2025-05-25</td><td>5</td><td>5.77</td><td>individual</td><td>business</td><td>13.0</td></tr><tr><td>972a846916414f828b9d2434e465e150</td><td>2025-04-01</td><td>9</td><td>1.35</td><td>individual</td><td>STEM</td><td>80.0</td></tr><tr><td>3b8faa1837f8488b97fc695a07a0ca6e</td><td>2025-04-19</td><td>4</td><td>21.52</td><td>institutional</td><td>STEM</td><td>23.0</td></tr><tr><td>b74d0fb132e746298fadc1a606cb0fb3</td><td>2025-05-20</td><td>8</td><td>9.38</td><td>institutional</td><td>business</td><td>45.0</td></tr><tr><td>72ff5d2a386e4be0ab65a6a48b8148f6</td><td>2025-05-07</td><td>5</td><td>5.45</td><td>institutional</td><td>STEM</td><td>6.0</td></tr><tr><td>c241330b01a9471f9e8a774bcf36d58b</td><td>2025-06-22</td><td>5</td><td>6.38</td><td>individual</td><td>business</td><td>19.0</td></tr><tr><td>47229389571a4876ac307511b2b9437a</td><td>2025-02-03</td><td>6</td><td>10.05</td><td>individual</td><td>business</td><td>13.0</td></tr><tr><td>1a2a73ed562b4f79837459eef50bea63</td><td>2025-01-20</td><td>11</td><td>5.29</td><td>individual</td><td>business</td><td>19.0</td></tr><tr><td>580d7b71d8f544139be6128e18c26797</td><td>2025-05-10</td><td>5</td><td>12.54</td><td>individual</td><td>STEM</td><td>80.0</td></tr><tr><td>759cde66bacf43d08b1f9163ce9ff57f</td><td>2025-04-25</td><td>8</td><td>6.43</td><td>individual</td><td>STEM</td><td>1.0</td></tr><tr><td>142c3fe860e74113ac1b8ca1f91e1d4c</td><td>2025-04-29</td><td>4</td><td>1.57</td><td>individual</td><td>STEM</td><td>24.0</td></tr><tr><td>e2acf72f9e574f7aa0ee89aed453dd32</td><td>2025-07-04</td><td>8</td><td>1.11</td><td>institutional</td><td>STEM</td><td>9.0</td></tr><tr><td>11ce5dd2b45e41f0b139d32c93cd59bf</td><td>2025-01-10</td><td>3</td><td>11.42</td><td>individual</td><td>STEM</td><td>5.0</td></tr><tr><td>fc377a4c4a15444d85e7ce8a3a578a8e</td><td>2025-01-18</td><td>6</td><td>15.64</td><td>individual</td><td>STEM</td><td>11.0</td></tr><tr><td>614ff3d719db4ad09dd1dfb23b982ef8</td><td>2025-03-01</td><td>8</td><td>18.85</td><td>institutional</td><td>STEM</td><td>38.0</td></tr><tr><td>29a3b2e95d654441958842dea2bc372f</td><td>2025-03-21</td><td>9</td><td>11.36</td><td>institutional</td><td>STEM</td><td>81.0</td></tr><tr><td>b3aa7efe44584885ab9099a435a240ae</td><td>2025-07-20</td><td>3</td><td>1.59</td><td>individual</td><td>STEM</td><td>68.0</td></tr><tr><td>a28defe39bf0427392476f57a5e5a5ab</td><td>2025-02-06</td><td>6</td><td>33.15</td><td>individual</td><td>humanities</td><td>6.0</td></tr><tr><td>7656af7229d44eefbeabedcbbaa80dd4</td><td>2025-03-23</td><td>3</td><td>44.71</td><td>individual</td><td>STEM</td><td>71.0</td></tr><tr><td>b02b61c4a3d74628ace66fa2fd5166e6</td><td>2025-04-30</td><td>7</td><td>16.38</td><td>individual</td><td>humanities</td><td>12.0</td></tr><tr><td>c4b032ccd7c544a59304317faf42e12f</td><td>2025-06-16</td><td>3</td><td>13.28</td><td>individual</td><td>business</td><td>34.0</td></tr><tr><td>ce177b4e083748a39261a7ab3aa2e4f9</td><td>2025-03-09</td><td>5</td><td>1.19</td><td>individual</td><td>business</td><td>5.0</td></tr><tr><td>e9c349e0360248ac90f1bc81448aaa9e</td><td>2025-07-21</td><td>3</td><td>22.27</td><td>trial</td><td>STEM</td><td>10.0</td></tr><tr><td>366eb16f508e4ad7b7c93acfe059a0ee</td><td>2025-05-21</td><td>8</td><td>17.02</td><td>individual</td><td>business</td><td>17.0</td></tr><tr><td>a491f0b2ea1f4a65a27a984d654821d0</td><td>2025-04-09</td><td>2</td><td>0.83</td><td>individual</td><td>business</td><td>1.0</td></tr><tr><td>beb799193f224af8a3bed01d43cf2fde</td><td>2025-05-01</td><td>5</td><td>0.14</td><td>trial</td><td>humanities</td><td>32.0</td></tr><tr><td>6dadd6c795a74d79bf3c4c06434308bc</td><td>2025-07-12</td><td>2</td><td>6.74</td><td>individual</td><td>STEM</td><td>13.0</td></tr><tr><td>ff50bde4382547b89cabcc97663f1c97</td><td>2025-08-02</td><td>5</td><td>4.55</td><td>trial</td><td>humanities</td><td>4.0</td></tr><tr><td>c17af08a174546d8be570ddf827050a8</td><td>2025-01-11</td><td>3</td><td>2.49</td><td>individual</td><td>business</td><td>53.0</td></tr><tr><td>28f49481a0a04dc4a7209bdf1c11f735</td><td>2025-06-19</td><td>3</td><td>12.8</td><td>individual</td><td>STEM</td><td>26.0</td></tr><tr><td>62801c4510434a1098ae43346c12ace8</td><td>2025-03-23</td><td>3</td><td>1.13</td><td>individual</td><td>STEM</td><td>67.0</td></tr><tr><td>405cacec877449a9b7d21e02ff01cf99</td><td>2025-07-27</td><td>5</td><td>7.53</td><td>trial</td><td>STEM</td><td>7.0</td></tr><tr><td>ae270da702f04b90b143262fdc5c0eed</td><td>2025-06-04</td><td>8</td><td>2.96</td><td>individual</td><td>business</td><td>33.0</td></tr><tr><td>c039871089764334a2817efdae849217</td><td>2025-02-27</td><td>2</td><td>4.74</td><td>institutional</td><td>business</td><td>37.0</td></tr><tr><td>4b22d3081c8e4ee99715bd6fa4161293</td><td>2025-04-04</td><td>6</td><td>27.82</td><td>individual</td><td>humanities</td><td>55.0</td></tr><tr><td>b8db0672f42d47cc80d4af5974273ca3</td><td>2025-07-07</td><td>6</td><td>61.78</td><td>individual</td><td>STEM</td><td>9.0</td></tr><tr><td>c30ff46e8026495fb8cda88b436d76e2</td><td>2025-02-08</td><td>0</td><td>0.6</td><td>individual</td><td>humanities</td><td>12.0</td></tr><tr><td>a013ac6ededa4e169b3dbd5ce9a1fa6f</td><td>2025-03-05</td><td>5</td><td>3.88</td><td>individual</td><td>humanities</td><td>21.0</td></tr><tr><td>32ebd6899be548c781f631d4a39231a7</td><td>2025-02-02</td><td>5</td><td>9.62</td><td>trial</td><td>humanities</td><td>22.0</td></tr><tr><td>f4188f3f8a144e62a95b4715c333e861</td><td>2025-06-16</td><td>6</td><td>10.69</td><td>institutional</td><td>humanities</td><td>65.0</td></tr><tr><td>99546eb400254ad1ab2263dd87c5421e</td><td>2025-03-11</td><td>4</td><td>16.45</td><td>individual</td><td>business</td><td>14.0</td></tr><tr><td>5cec4eb5edd948319ca35cfb04fc6d82</td><td>2025-07-08</td><td>1</td><td>14.93</td><td>individual</td><td>STEM</td><td>32.0</td></tr><tr><td>3d4cbf374eb94eff8e88cb2dd4e80839</td><td>2025-01-13</td><td>7</td><td>24.44</td><td>trial</td><td>STEM</td><td>9.0</td></tr><tr><td>14296c07f26b4776913e4de2e0c53cb8</td><td>2025-01-19</td><td>7</td><td>12.71</td><td>individual</td><td>humanities</td><td>72.0</td></tr><tr><td>fa5d310011b7494890e6e6607c69dee1</td><td>2025-06-12</td><td>5</td><td>4.97</td><td>trial</td><td>STEM</td><td>67.0</td></tr><tr><td>a8e56e0c20de435da031d750c40db9b4</td><td>2025-04-12</td><td>6</td><td>22.82</td><td>individual</td><td>business</td><td>38.0</td></tr><tr><td>8715a10343da4043aa45c2ab8cbfedb0</td><td>2025-07-06</td><td>4</td><td>9.97</td><td>individual</td><td>STEM</td><td>2.0</td></tr><tr><td>edcd465e36384821b6e07cc06c52c49f</td><td>2025-04-26</td><td>5</td><td>1.18</td><td>institutional</td><td>business</td><td>91.0</td></tr><tr><td>b683d2e6337e42dfb09b2a5cbadcc32a</td><td>2025-03-08</td><td>4</td><td>0.17</td><td>individual</td><td>business</td><td>28.0</td></tr></tbody></table></div>"
      ]
     },
     "metadata": {
      "application/vnd.databricks.v1+output": {
       "addedWidgets": {},
       "aggData": [],
       "aggError": "",
       "aggOverflow": false,
       "aggSchema": [],
       "aggSeriesLimitReached": false,
       "aggType": "",
       "arguments": {},
       "columnCustomDisplayInfos": {},
       "data": [
        [
         "bdd640fb06674ad19c80317fa3b1799d",
         "2025-02-28",
         5,
         2.67,
         "institutional",
         "STEM",
         9.0
        ],
        [
         "1a3d1fa7bc8940a9a3b8c1e9392456de",
         "2025-05-25",
         5,
         5.77,
         "individual",
         "business",
         13.0
        ],
        [
         "972a846916414f828b9d2434e465e150",
         "2025-04-01",
         9,
         1.35,
         "individual",
         "STEM",
         80.0
        ],
        [
         "3b8faa1837f8488b97fc695a07a0ca6e",
         "2025-04-19",
         4,
         21.52,
         "institutional",
         "STEM",
         23.0
        ],
        [
         "b74d0fb132e746298fadc1a606cb0fb3",
         "2025-05-20",
         8,
         9.38,
         "institutional",
         "business",
         45.0
        ],
        [
         "72ff5d2a386e4be0ab65a6a48b8148f6",
         "2025-05-07",
         5,
         5.45,
         "institutional",
         "STEM",
         6.0
        ],
        [
         "c241330b01a9471f9e8a774bcf36d58b",
         "2025-06-22",
         5,
         6.38,
         "individual",
         "business",
         19.0
        ],
        [
         "47229389571a4876ac307511b2b9437a",
         "2025-02-03",
         6,
         10.05,
         "individual",
         "business",
         13.0
        ],
        [
         "1a2a73ed562b4f79837459eef50bea63",
         "2025-01-20",
         11,
         5.29,
         "individual",
         "business",
         19.0
        ],
        [
         "580d7b71d8f544139be6128e18c26797",
         "2025-05-10",
         5,
         12.54,
         "individual",
         "STEM",
         80.0
        ],
        [
         "759cde66bacf43d08b1f9163ce9ff57f",
         "2025-04-25",
         8,
         6.43,
         "individual",
         "STEM",
         1.0
        ],
        [
         "142c3fe860e74113ac1b8ca1f91e1d4c",
         "2025-04-29",
         4,
         1.57,
         "individual",
         "STEM",
         24.0
        ],
        [
         "e2acf72f9e574f7aa0ee89aed453dd32",
         "2025-07-04",
         8,
         1.11,
         "institutional",
         "STEM",
         9.0
        ],
        [
         "11ce5dd2b45e41f0b139d32c93cd59bf",
         "2025-01-10",
         3,
         11.42,
         "individual",
         "STEM",
         5.0
        ],
        [
         "fc377a4c4a15444d85e7ce8a3a578a8e",
         "2025-01-18",
         6,
         15.64,
         "individual",
         "STEM",
         11.0
        ],
        [
         "614ff3d719db4ad09dd1dfb23b982ef8",
         "2025-03-01",
         8,
         18.85,
         "institutional",
         "STEM",
         38.0
        ],
        [
         "29a3b2e95d654441958842dea2bc372f",
         "2025-03-21",
         9,
         11.36,
         "institutional",
         "STEM",
         81.0
        ],
        [
         "b3aa7efe44584885ab9099a435a240ae",
         "2025-07-20",
         3,
         1.59,
         "individual",
         "STEM",
         68.0
        ],
        [
         "a28defe39bf0427392476f57a5e5a5ab",
         "2025-02-06",
         6,
         33.15,
         "individual",
         "humanities",
         6.0
        ],
        [
         "7656af7229d44eefbeabedcbbaa80dd4",
         "2025-03-23",
         3,
         44.71,
         "individual",
         "STEM",
         71.0
        ],
        [
         "b02b61c4a3d74628ace66fa2fd5166e6",
         "2025-04-30",
         7,
         16.38,
         "individual",
         "humanities",
         12.0
        ],
        [
         "c4b032ccd7c544a59304317faf42e12f",
         "2025-06-16",
         3,
         13.28,
         "individual",
         "business",
         34.0
        ],
        [
         "ce177b4e083748a39261a7ab3aa2e4f9",
         "2025-03-09",
         5,
         1.19,
         "individual",
         "business",
         5.0
        ],
        [
         "e9c349e0360248ac90f1bc81448aaa9e",
         "2025-07-21",
         3,
         22.27,
         "trial",
         "STEM",
         10.0
        ],
        [
         "366eb16f508e4ad7b7c93acfe059a0ee",
         "2025-05-21",
         8,
         17.02,
         "individual",
         "business",
         17.0
        ],
        [
         "a491f0b2ea1f4a65a27a984d654821d0",
         "2025-04-09",
         2,
         0.83,
         "individual",
         "business",
         1.0
        ],
        [
         "beb799193f224af8a3bed01d43cf2fde",
         "2025-05-01",
         5,
         0.14,
         "trial",
         "humanities",
         32.0
        ],
        [
         "6dadd6c795a74d79bf3c4c06434308bc",
         "2025-07-12",
         2,
         6.74,
         "individual",
         "STEM",
         13.0
        ],
        [
         "ff50bde4382547b89cabcc97663f1c97",
         "2025-08-02",
         5,
         4.55,
         "trial",
         "humanities",
         4.0
        ],
        [
         "c17af08a174546d8be570ddf827050a8",
         "2025-01-11",
         3,
         2.49,
         "individual",
         "business",
         53.0
        ],
        [
         "28f49481a0a04dc4a7209bdf1c11f735",
         "2025-06-19",
         3,
         12.8,
         "individual",
         "STEM",
         26.0
        ],
        [
         "62801c4510434a1098ae43346c12ace8",
         "2025-03-23",
         3,
         1.13,
         "individual",
         "STEM",
         67.0
        ],
        [
         "405cacec877449a9b7d21e02ff01cf99",
         "2025-07-27",
         5,
         7.53,
         "trial",
         "STEM",
         7.0
        ],
        [
         "ae270da702f04b90b143262fdc5c0eed",
         "2025-06-04",
         8,
         2.96,
         "individual",
         "business",
         33.0
        ],
        [
         "c039871089764334a2817efdae849217",
         "2025-02-27",
         2,
         4.74,
         "institutional",
         "business",
         37.0
        ],
        [
         "4b22d3081c8e4ee99715bd6fa4161293",
         "2025-04-04",
         6,
         27.82,
         "individual",
         "humanities",
         55.0
        ],
        [
         "b8db0672f42d47cc80d4af5974273ca3",
         "2025-07-07",
         6,
         61.78,
         "individual",
         "STEM",
         9.0
        ],
        [
         "c30ff46e8026495fb8cda88b436d76e2",
         "2025-02-08",
         0,
         0.6,
         "individual",
         "humanities",
         12.0
        ],
        [
         "a013ac6ededa4e169b3dbd5ce9a1fa6f",
         "2025-03-05",
         5,
         3.88,
         "individual",
         "humanities",
         21.0
        ],
        [
         "32ebd6899be548c781f631d4a39231a7",
         "2025-02-02",
         5,
         9.62,
         "trial",
         "humanities",
         22.0
        ],
        [
         "f4188f3f8a144e62a95b4715c333e861",
         "2025-06-16",
         6,
         10.69,
         "institutional",
         "humanities",
         65.0
        ],
        [
         "99546eb400254ad1ab2263dd87c5421e",
         "2025-03-11",
         4,
         16.45,
         "individual",
         "business",
         14.0
        ],
        [
         "5cec4eb5edd948319ca35cfb04fc6d82",
         "2025-07-08",
         1,
         14.93,
         "individual",
         "STEM",
         32.0
        ],
        [
         "3d4cbf374eb94eff8e88cb2dd4e80839",
         "2025-01-13",
         7,
         24.44,
         "trial",
         "STEM",
         9.0
        ],
        [
         "14296c07f26b4776913e4de2e0c53cb8",
         "2025-01-19",
         7,
         12.71,
         "individual",
         "humanities",
         72.0
        ],
        [
         "fa5d310011b7494890e6e6607c69dee1",
         "2025-06-12",
         5,
         4.97,
         "trial",
         "STEM",
         67.0
        ],
        [
         "a8e56e0c20de435da031d750c40db9b4",
         "2025-04-12",
         6,
         22.82,
         "individual",
         "business",
         38.0
        ],
        [
         "8715a10343da4043aa45c2ab8cbfedb0",
         "2025-07-06",
         4,
         9.97,
         "individual",
         "STEM",
         2.0
        ],
        [
         "edcd465e36384821b6e07cc06c52c49f",
         "2025-04-26",
         5,
         1.18,
         "institutional",
         "business",
         91.0
        ],
        [
         "b683d2e6337e42dfb09b2a5cbadcc32a",
         "2025-03-08",
         4,
         0.17,
         "individual",
         "business",
         28.0
        ]
       ],
       "datasetInfos": [],
       "dbfsResultPath": null,
       "isJsonSchema": true,
       "metadata": {},
       "overflow": false,
       "plotOptions": {
        "customPlotOptions": {},
        "displayType": "table",
        "pivotAggregation": null,
        "pivotColumns": null,
        "xColumns": null,
        "yColumns": null
       },
       "removedWidgets": [],
       "schema": [
        {
         "metadata": "{}",
         "name": "Customer_ID",
         "type": "\"string\""
        },
        {
         "metadata": "{}",
         "name": "Last_Login_Date",
         "type": "\"string\""
        },
        {
         "metadata": "{}",
         "name": "Ebooks_Downloaded_6_Months",
         "type": "\"integer\""
        },
        {
         "metadata": "{}",
         "name": "Average_Session_Time",
         "type": "\"float\""
        },
        {
         "metadata": "{}",
         "name": "Subscription_Plan_Type",
         "type": "\"string\""
        },
        {
         "metadata": "{}",
         "name": "Primary_Discipline",
         "type": "\"string\""
        },
        {
         "metadata": "{}",
         "name": "Days_Since_Last_Activity",
         "type": "\"float\""
        }
       ],
       "type": "table"
      }
     },
     "output_type": "display_data"
    }
   ],
   "source": [
    "df_spark = spark.read.format('delta').table(f'{catalog_name}.{schema_name}.{table_name}')\n",
    "display(df_spark)"
   ]
  },
  {
   "cell_type": "code",
   "execution_count": 0,
   "metadata": {
    "application/vnd.databricks.v1+cell": {
     "cellMetadata": {
      "byteLimit": 2048000,
      "rowLimit": 10000
     },
     "inputWidgets": {},
     "nuid": "2f3d632a-2a04-4b72-9df7-7205d81b0963",
     "showTitle": false,
     "tableResultSettingsMap": {},
     "title": ""
    }
   },
   "outputs": [
    {
     "output_type": "display_data",
     "data": {
      "text/html": [
       "<style scoped>\n",
       "  .table-result-container {\n",
       "    max-height: 300px;\n",
       "    overflow: auto;\n",
       "  }\n",
       "  table, th, td {\n",
       "    border: 1px solid black;\n",
       "    border-collapse: collapse;\n",
       "  }\n",
       "  th, td {\n",
       "    padding: 5px;\n",
       "  }\n",
       "  th {\n",
       "    text-align: left;\n",
       "  }\n",
       "</style><div class='table-result-container'><table class='table-result'><thead style='background-color: white'><tr><th>summary</th><th>days_since_login</th><th>Ebooks_Downloaded_6_Months</th><th>Average_Session_Time</th><th>Days_Since_Last_Activity</th><th>engagement_score</th><th>subscription_tier_numeric</th></tr></thead><tbody><tr><td>count</td><td>50</td><td>50</td><td>50</td><td>50</td><td>50</td><td>50</td></tr><tr><td>mean</td><td>105.9</td><td>5.12</td><td>11.24620002269745</td><td>30.18</td><td>9.408340015888214</td><td>1.0</td></tr><tr><td>stddev</td><td>61.52260245019627</td><td>2.2373453657659303</td><td>11.866951443515598</td><td>25.869129029302353</td><td>8.386561771082146</td><td>0.0</td></tr><tr><td>min</td><td>1</td><td>0</td><td>0.14</td><td>1.0</td><td>0.42000001668930054</td><td>1</td></tr><tr><td>max</td><td>205</td><td>11</td><td>61.78</td><td>91.0</td><td>45.04599914550781</td><td>1</td></tr></tbody></table></div>"
      ]
     },
     "metadata": {
      "application/vnd.databricks.v1+output": {
       "addedWidgets": {},
       "aggData": [],
       "aggError": "",
       "aggOverflow": false,
       "aggSchema": [],
       "aggSeriesLimitReached": false,
       "aggType": "",
       "arguments": {},
       "columnCustomDisplayInfos": {},
       "data": [
        [
         "count",
         "50",
         "50",
         "50",
         "50",
         "50",
         "50"
        ],
        [
         "mean",
         "105.9",
         "5.12",
         "11.24620002269745",
         "30.18",
         "9.408340015888214",
         "1.0"
        ],
        [
         "stddev",
         "61.52260245019627",
         "2.2373453657659303",
         "11.866951443515598",
         "25.869129029302353",
         "8.386561771082146",
         "0.0"
        ],
        [
         "min",
         "1",
         "0",
         "0.14",
         "1.0",
         "0.42000001668930054",
         "1"
        ],
        [
         "max",
         "205",
         "11",
         "61.78",
         "91.0",
         "45.04599914550781",
         "1"
        ]
       ],
       "datasetInfos": [],
       "dbfsResultPath": null,
       "isJsonSchema": true,
       "metadata": {},
       "overflow": false,
       "plotOptions": {
        "customPlotOptions": {},
        "displayType": "table",
        "pivotAggregation": null,
        "pivotColumns": null,
        "xColumns": null,
        "yColumns": null
       },
       "removedWidgets": [],
       "schema": [
        {
         "metadata": "{}",
         "name": "summary",
         "type": "\"string\""
        },
        {
         "metadata": "{}",
         "name": "days_since_login",
         "type": "\"string\""
        },
        {
         "metadata": "{}",
         "name": "Ebooks_Downloaded_6_Months",
         "type": "\"string\""
        },
        {
         "metadata": "{}",
         "name": "Average_Session_Time",
         "type": "\"string\""
        },
        {
         "metadata": "{}",
         "name": "Days_Since_Last_Activity",
         "type": "\"string\""
        },
        {
         "metadata": "{}",
         "name": "engagement_score",
         "type": "\"string\""
        },
        {
         "metadata": "{}",
         "name": "subscription_tier_numeric",
         "type": "\"string\""
        }
       ],
       "type": "table"
      }
     },
     "output_type": "display_data"
    }
   ],
   "source": [
    "# Data quality checks\n",
    "print(f\"Total records: {df_spark.count()}\")\n",
    "print(f\"Unique customers: {df_spark.select('Customer_ID').distinct().count()}\")\n",
    "df_spark.printSchema()"
   ]
  },
  {
   "cell_type": "markdown",
   "metadata": {
    "application/vnd.databricks.v1+cell": {
     "cellMetadata": {
      "byteLimit": 2048000,
      "rowLimit": 10000
     },
     "inputWidgets": {},
     "nuid": "8a6452c3-037f-4d06-9720-144d23775994",
     "showTitle": false,
     "tableResultSettingsMap": {},
     "title": ""
    }
   },
   "source": [
    "## Feature Engineering"
   ]
  },
  {
   "cell_type": "code",
   "execution_count": 0,
   "metadata": {
    "application/vnd.databricks.v1+cell": {
     "cellMetadata": {
      "byteLimit": 2048000,
      "rowLimit": 10000
     },
     "collapsed": true,
     "inputWidgets": {},
     "nuid": "ef879e99-902f-4cd6-bf96-7f51bf707327",
     "showTitle": false,
     "tableResultSettingsMap": {},
     "title": ""
    }
   },
   "outputs": [
    {
     "output_type": "display_data",
     "data": {
      "text/html": [
       "<style scoped>\n",
       "  .table-result-container {\n",
       "    max-height: 300px;\n",
       "    overflow: auto;\n",
       "  }\n",
       "  table, th, td {\n",
       "    border: 1px solid black;\n",
       "    border-collapse: collapse;\n",
       "  }\n",
       "  th, td {\n",
       "    padding: 5px;\n",
       "  }\n",
       "  th {\n",
       "    text-align: left;\n",
       "  }\n",
       "</style><div class='table-result-container'><table class='table-result'><thead style='background-color: white'><tr><th>Customer_ID</th><th>Last_Login_Date</th><th>Ebooks_Downloaded_6_Months</th><th>Average_Session_Time</th><th>Subscription_Plan_Type</th><th>Primary_Discipline</th><th>Days_Since_Last_Activity</th><th>last_login_timestamp</th><th>current_timestamp</th><th>days_since_login</th><th>usage_intensity</th><th>engagement_score</th><th>subscription_tier_numeric</th><th>high_downloads_low_sessions</th><th>dormant_user</th><th>power_user</th></tr></thead><tbody><tr><td>bdd640fb06674ad19c80317fa3b1799d</td><td>2025-02-28</td><td>5</td><td>2.67</td><td>institutional</td><td>STEM</td><td>9.0</td><td>2025-02-28T00:00:00Z</td><td>2025-08-03T22:48:46.844Z</td><td>156</td><td>0.5555555555555556</td><td>13.35</td><td>1</td><td>0</td><td>0</td><td>0</td></tr><tr><td>1a3d1fa7bc8940a9a3b8c1e9392456de</td><td>2025-05-25</td><td>5</td><td>5.77</td><td>individual</td><td>business</td><td>13.0</td><td>2025-05-25T00:00:00Z</td><td>2025-08-03T22:48:46.844Z</td><td>70</td><td>0.38461538461538464</td><td>28.85</td><td>1</td><td>0</td><td>0</td><td>0</td></tr><tr><td>972a846916414f828b9d2434e465e150</td><td>2025-04-01</td><td>9</td><td>1.35</td><td>individual</td><td>STEM</td><td>80.0</td><td>2025-04-01T00:00:00Z</td><td>2025-08-03T22:48:46.844Z</td><td>124</td><td>0.1125</td><td>12.150001</td><td>1</td><td>0</td><td>1</td><td>0</td></tr><tr><td>3b8faa1837f8488b97fc695a07a0ca6e</td><td>2025-04-19</td><td>4</td><td>21.52</td><td>institutional</td><td>STEM</td><td>23.0</td><td>2025-04-19T00:00:00Z</td><td>2025-08-03T22:48:46.844Z</td><td>106</td><td>0.17391304347826086</td><td>86.08</td><td>1</td><td>0</td><td>0</td><td>0</td></tr><tr><td>b74d0fb132e746298fadc1a606cb0fb3</td><td>2025-05-20</td><td>8</td><td>9.38</td><td>institutional</td><td>business</td><td>45.0</td><td>2025-05-20T00:00:00Z</td><td>2025-08-03T22:48:46.844Z</td><td>75</td><td>0.17777777777777778</td><td>75.04</td><td>1</td><td>0</td><td>1</td><td>0</td></tr><tr><td>72ff5d2a386e4be0ab65a6a48b8148f6</td><td>2025-05-07</td><td>5</td><td>5.45</td><td>institutional</td><td>STEM</td><td>6.0</td><td>2025-05-07T00:00:00Z</td><td>2025-08-03T22:48:46.844Z</td><td>88</td><td>0.8333333333333334</td><td>27.25</td><td>1</td><td>0</td><td>0</td><td>0</td></tr><tr><td>c241330b01a9471f9e8a774bcf36d58b</td><td>2025-06-22</td><td>5</td><td>6.38</td><td>individual</td><td>business</td><td>19.0</td><td>2025-06-22T00:00:00Z</td><td>2025-08-03T22:48:46.844Z</td><td>42</td><td>0.2631578947368421</td><td>31.900002</td><td>1</td><td>0</td><td>0</td><td>0</td></tr><tr><td>47229389571a4876ac307511b2b9437a</td><td>2025-02-03</td><td>6</td><td>10.05</td><td>individual</td><td>business</td><td>13.0</td><td>2025-02-03T00:00:00Z</td><td>2025-08-03T22:48:46.844Z</td><td>181</td><td>0.46153846153846156</td><td>60.300003</td><td>1</td><td>0</td><td>0</td><td>0</td></tr><tr><td>1a2a73ed562b4f79837459eef50bea63</td><td>2025-01-20</td><td>11</td><td>5.29</td><td>individual</td><td>business</td><td>19.0</td><td>2025-01-20T00:00:00Z</td><td>2025-08-03T22:48:46.844Z</td><td>195</td><td>0.5789473684210527</td><td>58.19</td><td>1</td><td>0</td><td>0</td><td>0</td></tr><tr><td>580d7b71d8f544139be6128e18c26797</td><td>2025-05-10</td><td>5</td><td>12.54</td><td>individual</td><td>STEM</td><td>80.0</td><td>2025-05-10T00:00:00Z</td><td>2025-08-03T22:48:46.844Z</td><td>85</td><td>0.0625</td><td>62.7</td><td>1</td><td>0</td><td>1</td><td>0</td></tr><tr><td>759cde66bacf43d08b1f9163ce9ff57f</td><td>2025-04-25</td><td>8</td><td>6.43</td><td>individual</td><td>STEM</td><td>1.0</td><td>2025-04-25T00:00:00Z</td><td>2025-08-03T22:48:46.844Z</td><td>100</td><td>8.0</td><td>51.44</td><td>1</td><td>0</td><td>0</td><td>0</td></tr><tr><td>142c3fe860e74113ac1b8ca1f91e1d4c</td><td>2025-04-29</td><td>4</td><td>1.57</td><td>individual</td><td>STEM</td><td>24.0</td><td>2025-04-29T00:00:00Z</td><td>2025-08-03T22:48:46.844Z</td><td>96</td><td>0.16666666666666666</td><td>6.28</td><td>1</td><td>0</td><td>0</td><td>0</td></tr><tr><td>e2acf72f9e574f7aa0ee89aed453dd32</td><td>2025-07-04</td><td>8</td><td>1.11</td><td>institutional</td><td>STEM</td><td>9.0</td><td>2025-07-04T00:00:00Z</td><td>2025-08-03T22:48:46.844Z</td><td>30</td><td>0.8888888888888888</td><td>8.88</td><td>1</td><td>0</td><td>0</td><td>0</td></tr><tr><td>11ce5dd2b45e41f0b139d32c93cd59bf</td><td>2025-01-10</td><td>3</td><td>11.42</td><td>individual</td><td>STEM</td><td>5.0</td><td>2025-01-10T00:00:00Z</td><td>2025-08-03T22:48:46.844Z</td><td>205</td><td>0.6</td><td>34.260002</td><td>1</td><td>0</td><td>0</td><td>0</td></tr><tr><td>fc377a4c4a15444d85e7ce8a3a578a8e</td><td>2025-01-18</td><td>6</td><td>15.64</td><td>individual</td><td>STEM</td><td>11.0</td><td>2025-01-18T00:00:00Z</td><td>2025-08-03T22:48:46.844Z</td><td>197</td><td>0.5454545454545454</td><td>93.840004</td><td>1</td><td>0</td><td>0</td><td>0</td></tr><tr><td>614ff3d719db4ad09dd1dfb23b982ef8</td><td>2025-03-01</td><td>8</td><td>18.85</td><td>institutional</td><td>STEM</td><td>38.0</td><td>2025-03-01T00:00:00Z</td><td>2025-08-03T22:48:46.844Z</td><td>155</td><td>0.21052631578947367</td><td>150.8</td><td>1</td><td>0</td><td>1</td><td>0</td></tr><tr><td>29a3b2e95d654441958842dea2bc372f</td><td>2025-03-21</td><td>9</td><td>11.36</td><td>institutional</td><td>STEM</td><td>81.0</td><td>2025-03-21T00:00:00Z</td><td>2025-08-03T22:48:46.844Z</td><td>135</td><td>0.1111111111111111</td><td>102.24</td><td>1</td><td>0</td><td>1</td><td>0</td></tr><tr><td>b3aa7efe44584885ab9099a435a240ae</td><td>2025-07-20</td><td>3</td><td>1.59</td><td>individual</td><td>STEM</td><td>68.0</td><td>2025-07-20T00:00:00Z</td><td>2025-08-03T22:48:46.844Z</td><td>14</td><td>0.04411764705882353</td><td>4.77</td><td>1</td><td>0</td><td>1</td><td>0</td></tr><tr><td>a28defe39bf0427392476f57a5e5a5ab</td><td>2025-02-06</td><td>6</td><td>33.15</td><td>individual</td><td>humanities</td><td>6.0</td><td>2025-02-06T00:00:00Z</td><td>2025-08-03T22:48:46.844Z</td><td>178</td><td>1.0</td><td>198.90001</td><td>1</td><td>0</td><td>0</td><td>0</td></tr><tr><td>7656af7229d44eefbeabedcbbaa80dd4</td><td>2025-03-23</td><td>3</td><td>44.71</td><td>individual</td><td>STEM</td><td>71.0</td><td>2025-03-23T00:00:00Z</td><td>2025-08-03T22:48:46.844Z</td><td>133</td><td>0.04225352112676056</td><td>134.13</td><td>1</td><td>0</td><td>1</td><td>0</td></tr><tr><td>b02b61c4a3d74628ace66fa2fd5166e6</td><td>2025-04-30</td><td>7</td><td>16.38</td><td>individual</td><td>humanities</td><td>12.0</td><td>2025-04-30T00:00:00Z</td><td>2025-08-03T22:48:46.844Z</td><td>95</td><td>0.5833333333333334</td><td>114.659996</td><td>1</td><td>0</td><td>0</td><td>0</td></tr><tr><td>c4b032ccd7c544a59304317faf42e12f</td><td>2025-06-16</td><td>3</td><td>13.28</td><td>individual</td><td>business</td><td>34.0</td><td>2025-06-16T00:00:00Z</td><td>2025-08-03T22:48:46.844Z</td><td>48</td><td>0.08823529411764706</td><td>39.84</td><td>1</td><td>0</td><td>1</td><td>0</td></tr><tr><td>ce177b4e083748a39261a7ab3aa2e4f9</td><td>2025-03-09</td><td>5</td><td>1.19</td><td>individual</td><td>business</td><td>5.0</td><td>2025-03-09T00:00:00Z</td><td>2025-08-03T22:48:46.844Z</td><td>147</td><td>1.0</td><td>5.9500003</td><td>1</td><td>0</td><td>0</td><td>0</td></tr><tr><td>e9c349e0360248ac90f1bc81448aaa9e</td><td>2025-07-21</td><td>3</td><td>22.27</td><td>trial</td><td>STEM</td><td>10.0</td><td>2025-07-21T00:00:00Z</td><td>2025-08-03T22:48:46.844Z</td><td>13</td><td>0.3</td><td>66.81</td><td>1</td><td>0</td><td>0</td><td>0</td></tr><tr><td>366eb16f508e4ad7b7c93acfe059a0ee</td><td>2025-05-21</td><td>8</td><td>17.02</td><td>individual</td><td>business</td><td>17.0</td><td>2025-05-21T00:00:00Z</td><td>2025-08-03T22:48:46.844Z</td><td>74</td><td>0.47058823529411764</td><td>136.16</td><td>1</td><td>0</td><td>0</td><td>0</td></tr><tr><td>a491f0b2ea1f4a65a27a984d654821d0</td><td>2025-04-09</td><td>2</td><td>0.83</td><td>individual</td><td>business</td><td>1.0</td><td>2025-04-09T00:00:00Z</td><td>2025-08-03T22:48:46.844Z</td><td>116</td><td>2.0</td><td>1.66</td><td>1</td><td>0</td><td>0</td><td>0</td></tr><tr><td>beb799193f224af8a3bed01d43cf2fde</td><td>2025-05-01</td><td>5</td><td>0.14</td><td>trial</td><td>humanities</td><td>32.0</td><td>2025-05-01T00:00:00Z</td><td>2025-08-03T22:48:46.844Z</td><td>94</td><td>0.15625</td><td>0.7</td><td>1</td><td>0</td><td>1</td><td>0</td></tr><tr><td>6dadd6c795a74d79bf3c4c06434308bc</td><td>2025-07-12</td><td>2</td><td>6.74</td><td>individual</td><td>STEM</td><td>13.0</td><td>2025-07-12T00:00:00Z</td><td>2025-08-03T22:48:46.844Z</td><td>22</td><td>0.15384615384615385</td><td>13.48</td><td>1</td><td>0</td><td>0</td><td>0</td></tr><tr><td>ff50bde4382547b89cabcc97663f1c97</td><td>2025-08-02</td><td>5</td><td>4.55</td><td>trial</td><td>humanities</td><td>4.0</td><td>2025-08-02T00:00:00Z</td><td>2025-08-03T22:48:46.844Z</td><td>1</td><td>1.25</td><td>22.75</td><td>1</td><td>0</td><td>0</td><td>0</td></tr><tr><td>c17af08a174546d8be570ddf827050a8</td><td>2025-01-11</td><td>3</td><td>2.49</td><td>individual</td><td>business</td><td>53.0</td><td>2025-01-11T00:00:00Z</td><td>2025-08-03T22:48:46.844Z</td><td>204</td><td>0.05660377358490566</td><td>7.4700003</td><td>1</td><td>0</td><td>1</td><td>0</td></tr><tr><td>28f49481a0a04dc4a7209bdf1c11f735</td><td>2025-06-19</td><td>3</td><td>12.8</td><td>individual</td><td>STEM</td><td>26.0</td><td>2025-06-19T00:00:00Z</td><td>2025-08-03T22:48:46.844Z</td><td>45</td><td>0.11538461538461539</td><td>38.4</td><td>1</td><td>0</td><td>0</td><td>0</td></tr><tr><td>62801c4510434a1098ae43346c12ace8</td><td>2025-03-23</td><td>3</td><td>1.13</td><td>individual</td><td>STEM</td><td>67.0</td><td>2025-03-23T00:00:00Z</td><td>2025-08-03T22:48:46.844Z</td><td>133</td><td>0.04477611940298507</td><td>3.3899999</td><td>1</td><td>0</td><td>1</td><td>0</td></tr><tr><td>405cacec877449a9b7d21e02ff01cf99</td><td>2025-07-27</td><td>5</td><td>7.53</td><td>trial</td><td>STEM</td><td>7.0</td><td>2025-07-27T00:00:00Z</td><td>2025-08-03T22:48:46.844Z</td><td>7</td><td>0.7142857142857143</td><td>37.65</td><td>1</td><td>0</td><td>0</td><td>0</td></tr><tr><td>ae270da702f04b90b143262fdc5c0eed</td><td>2025-06-04</td><td>8</td><td>2.96</td><td>individual</td><td>business</td><td>33.0</td><td>2025-06-04T00:00:00Z</td><td>2025-08-03T22:48:46.844Z</td><td>60</td><td>0.24242424242424243</td><td>23.68</td><td>1</td><td>0</td><td>1</td><td>0</td></tr><tr><td>c039871089764334a2817efdae849217</td><td>2025-02-27</td><td>2</td><td>4.74</td><td>institutional</td><td>business</td><td>37.0</td><td>2025-02-27T00:00:00Z</td><td>2025-08-03T22:48:46.844Z</td><td>157</td><td>0.05405405405405406</td><td>9.48</td><td>1</td><td>0</td><td>1</td><td>0</td></tr><tr><td>4b22d3081c8e4ee99715bd6fa4161293</td><td>2025-04-04</td><td>6</td><td>27.82</td><td>individual</td><td>humanities</td><td>55.0</td><td>2025-04-04T00:00:00Z</td><td>2025-08-03T22:48:46.844Z</td><td>121</td><td>0.10909090909090909</td><td>166.92</td><td>1</td><td>0</td><td>1</td><td>0</td></tr><tr><td>b8db0672f42d47cc80d4af5974273ca3</td><td>2025-07-07</td><td>6</td><td>61.78</td><td>individual</td><td>STEM</td><td>9.0</td><td>2025-07-07T00:00:00Z</td><td>2025-08-03T22:48:46.844Z</td><td>27</td><td>0.6666666666666666</td><td>370.68</td><td>1</td><td>0</td><td>0</td><td>0</td></tr><tr><td>c30ff46e8026495fb8cda88b436d76e2</td><td>2025-02-08</td><td>0</td><td>0.6</td><td>individual</td><td>humanities</td><td>12.0</td><td>2025-02-08T00:00:00Z</td><td>2025-08-03T22:48:46.844Z</td><td>176</td><td>0.0</td><td>0.0</td><td>1</td><td>0</td><td>0</td><td>0</td></tr><tr><td>a013ac6ededa4e169b3dbd5ce9a1fa6f</td><td>2025-03-05</td><td>5</td><td>3.88</td><td>individual</td><td>humanities</td><td>21.0</td><td>2025-03-05T00:00:00Z</td><td>2025-08-03T22:48:46.844Z</td><td>151</td><td>0.23809523809523808</td><td>19.400002</td><td>1</td><td>0</td><td>0</td><td>0</td></tr><tr><td>32ebd6899be548c781f631d4a39231a7</td><td>2025-02-02</td><td>5</td><td>9.62</td><td>trial</td><td>humanities</td><td>22.0</td><td>2025-02-02T00:00:00Z</td><td>2025-08-03T22:48:46.844Z</td><td>182</td><td>0.22727272727272727</td><td>48.1</td><td>1</td><td>0</td><td>0</td><td>0</td></tr><tr><td>f4188f3f8a144e62a95b4715c333e861</td><td>2025-06-16</td><td>6</td><td>10.69</td><td>institutional</td><td>humanities</td><td>65.0</td><td>2025-06-16T00:00:00Z</td><td>2025-08-03T22:48:46.844Z</td><td>48</td><td>0.09230769230769231</td><td>64.14</td><td>1</td><td>0</td><td>1</td><td>0</td></tr><tr><td>99546eb400254ad1ab2263dd87c5421e</td><td>2025-03-11</td><td>4</td><td>16.45</td><td>individual</td><td>business</td><td>14.0</td><td>2025-03-11T00:00:00Z</td><td>2025-08-03T22:48:46.844Z</td><td>145</td><td>0.2857142857142857</td><td>65.8</td><td>1</td><td>0</td><td>0</td><td>0</td></tr><tr><td>5cec4eb5edd948319ca35cfb04fc6d82</td><td>2025-07-08</td><td>1</td><td>14.93</td><td>individual</td><td>STEM</td><td>32.0</td><td>2025-07-08T00:00:00Z</td><td>2025-08-03T22:48:46.844Z</td><td>26</td><td>0.03125</td><td>14.93</td><td>1</td><td>0</td><td>1</td><td>0</td></tr><tr><td>3d4cbf374eb94eff8e88cb2dd4e80839</td><td>2025-01-13</td><td>7</td><td>24.44</td><td>trial</td><td>STEM</td><td>9.0</td><td>2025-01-13T00:00:00Z</td><td>2025-08-03T22:48:46.844Z</td><td>202</td><td>0.7777777777777778</td><td>171.08</td><td>1</td><td>0</td><td>0</td><td>0</td></tr><tr><td>14296c07f26b4776913e4de2e0c53cb8</td><td>2025-01-19</td><td>7</td><td>12.71</td><td>individual</td><td>humanities</td><td>72.0</td><td>2025-01-19T00:00:00Z</td><td>2025-08-03T22:48:46.844Z</td><td>196</td><td>0.09722222222222222</td><td>88.97</td><td>1</td><td>0</td><td>1</td><td>0</td></tr><tr><td>fa5d310011b7494890e6e6607c69dee1</td><td>2025-06-12</td><td>5</td><td>4.97</td><td>trial</td><td>STEM</td><td>67.0</td><td>2025-06-12T00:00:00Z</td><td>2025-08-03T22:48:46.844Z</td><td>52</td><td>0.07462686567164178</td><td>24.849998</td><td>1</td><td>0</td><td>1</td><td>0</td></tr><tr><td>a8e56e0c20de435da031d750c40db9b4</td><td>2025-04-12</td><td>6</td><td>22.82</td><td>individual</td><td>business</td><td>38.0</td><td>2025-04-12T00:00:00Z</td><td>2025-08-03T22:48:46.844Z</td><td>113</td><td>0.15789473684210525</td><td>136.92</td><td>1</td><td>0</td><td>1</td><td>0</td></tr><tr><td>8715a10343da4043aa45c2ab8cbfedb0</td><td>2025-07-06</td><td>4</td><td>9.97</td><td>individual</td><td>STEM</td><td>2.0</td><td>2025-07-06T00:00:00Z</td><td>2025-08-03T22:48:46.844Z</td><td>28</td><td>2.0</td><td>39.88</td><td>1</td><td>0</td><td>0</td><td>0</td></tr><tr><td>edcd465e36384821b6e07cc06c52c49f</td><td>2025-04-26</td><td>5</td><td>1.18</td><td>institutional</td><td>business</td><td>91.0</td><td>2025-04-26T00:00:00Z</td><td>2025-08-03T22:48:46.844Z</td><td>99</td><td>0.054945054945054944</td><td>5.8999996</td><td>1</td><td>0</td><td>1</td><td>0</td></tr><tr><td>b683d2e6337e42dfb09b2a5cbadcc32a</td><td>2025-03-08</td><td>4</td><td>0.17</td><td>individual</td><td>business</td><td>28.0</td><td>2025-03-08T00:00:00Z</td><td>2025-08-03T22:48:46.844Z</td><td>148</td><td>0.14285714285714285</td><td>0.68</td><td>1</td><td>0</td><td>0</td><td>0</td></tr></tbody></table></div>"
      ]
     },
     "metadata": {
      "application/vnd.databricks.v1+output": {
       "addedWidgets": {},
       "aggData": [],
       "aggError": "",
       "aggOverflow": false,
       "aggSchema": [],
       "aggSeriesLimitReached": false,
       "aggType": "",
       "arguments": {},
       "columnCustomDisplayInfos": {},
       "data": [
        [
         "bdd640fb06674ad19c80317fa3b1799d",
         "2025-02-28",
         5,
         2.67,
         "institutional",
         "STEM",
         9.0,
         "2025-02-28T00:00:00Z",
         "2025-08-03T22:48:46.844Z",
         156,
         0.5555555555555556,
         13.35,
         1,
         0,
         0,
         0
        ],
        [
         "1a3d1fa7bc8940a9a3b8c1e9392456de",
         "2025-05-25",
         5,
         5.77,
         "individual",
         "business",
         13.0,
         "2025-05-25T00:00:00Z",
         "2025-08-03T22:48:46.844Z",
         70,
         0.38461538461538464,
         28.85,
         1,
         0,
         0,
         0
        ],
        [
         "972a846916414f828b9d2434e465e150",
         "2025-04-01",
         9,
         1.35,
         "individual",
         "STEM",
         80.0,
         "2025-04-01T00:00:00Z",
         "2025-08-03T22:48:46.844Z",
         124,
         0.1125,
         12.150001,
         1,
         0,
         1,
         0
        ],
        [
         "3b8faa1837f8488b97fc695a07a0ca6e",
         "2025-04-19",
         4,
         21.52,
         "institutional",
         "STEM",
         23.0,
         "2025-04-19T00:00:00Z",
         "2025-08-03T22:48:46.844Z",
         106,
         0.17391304347826086,
         86.08,
         1,
         0,
         0,
         0
        ],
        [
         "b74d0fb132e746298fadc1a606cb0fb3",
         "2025-05-20",
         8,
         9.38,
         "institutional",
         "business",
         45.0,
         "2025-05-20T00:00:00Z",
         "2025-08-03T22:48:46.844Z",
         75,
         0.17777777777777778,
         75.04,
         1,
         0,
         1,
         0
        ],
        [
         "72ff5d2a386e4be0ab65a6a48b8148f6",
         "2025-05-07",
         5,
         5.45,
         "institutional",
         "STEM",
         6.0,
         "2025-05-07T00:00:00Z",
         "2025-08-03T22:48:46.844Z",
         88,
         0.8333333333333334,
         27.25,
         1,
         0,
         0,
         0
        ],
        [
         "c241330b01a9471f9e8a774bcf36d58b",
         "2025-06-22",
         5,
         6.38,
         "individual",
         "business",
         19.0,
         "2025-06-22T00:00:00Z",
         "2025-08-03T22:48:46.844Z",
         42,
         0.2631578947368421,
         31.900002,
         1,
         0,
         0,
         0
        ],
        [
         "47229389571a4876ac307511b2b9437a",
         "2025-02-03",
         6,
         10.05,
         "individual",
         "business",
         13.0,
         "2025-02-03T00:00:00Z",
         "2025-08-03T22:48:46.844Z",
         181,
         0.46153846153846156,
         60.300003,
         1,
         0,
         0,
         0
        ],
        [
         "1a2a73ed562b4f79837459eef50bea63",
         "2025-01-20",
         11,
         5.29,
         "individual",
         "business",
         19.0,
         "2025-01-20T00:00:00Z",
         "2025-08-03T22:48:46.844Z",
         195,
         0.5789473684210527,
         58.19,
         1,
         0,
         0,
         0
        ],
        [
         "580d7b71d8f544139be6128e18c26797",
         "2025-05-10",
         5,
         12.54,
         "individual",
         "STEM",
         80.0,
         "2025-05-10T00:00:00Z",
         "2025-08-03T22:48:46.844Z",
         85,
         0.0625,
         62.7,
         1,
         0,
         1,
         0
        ],
        [
         "759cde66bacf43d08b1f9163ce9ff57f",
         "2025-04-25",
         8,
         6.43,
         "individual",
         "STEM",
         1.0,
         "2025-04-25T00:00:00Z",
         "2025-08-03T22:48:46.844Z",
         100,
         8.0,
         51.44,
         1,
         0,
         0,
         0
        ],
        [
         "142c3fe860e74113ac1b8ca1f91e1d4c",
         "2025-04-29",
         4,
         1.57,
         "individual",
         "STEM",
         24.0,
         "2025-04-29T00:00:00Z",
         "2025-08-03T22:48:46.844Z",
         96,
         0.16666666666666666,
         6.28,
         1,
         0,
         0,
         0
        ],
        [
         "e2acf72f9e574f7aa0ee89aed453dd32",
         "2025-07-04",
         8,
         1.11,
         "institutional",
         "STEM",
         9.0,
         "2025-07-04T00:00:00Z",
         "2025-08-03T22:48:46.844Z",
         30,
         0.8888888888888888,
         8.88,
         1,
         0,
         0,
         0
        ],
        [
         "11ce5dd2b45e41f0b139d32c93cd59bf",
         "2025-01-10",
         3,
         11.42,
         "individual",
         "STEM",
         5.0,
         "2025-01-10T00:00:00Z",
         "2025-08-03T22:48:46.844Z",
         205,
         0.6,
         34.260002,
         1,
         0,
         0,
         0
        ],
        [
         "fc377a4c4a15444d85e7ce8a3a578a8e",
         "2025-01-18",
         6,
         15.64,
         "individual",
         "STEM",
         11.0,
         "2025-01-18T00:00:00Z",
         "2025-08-03T22:48:46.844Z",
         197,
         0.5454545454545454,
         93.840004,
         1,
         0,
         0,
         0
        ],
        [
         "614ff3d719db4ad09dd1dfb23b982ef8",
         "2025-03-01",
         8,
         18.85,
         "institutional",
         "STEM",
         38.0,
         "2025-03-01T00:00:00Z",
         "2025-08-03T22:48:46.844Z",
         155,
         0.21052631578947367,
         150.8,
         1,
         0,
         1,
         0
        ],
        [
         "29a3b2e95d654441958842dea2bc372f",
         "2025-03-21",
         9,
         11.36,
         "institutional",
         "STEM",
         81.0,
         "2025-03-21T00:00:00Z",
         "2025-08-03T22:48:46.844Z",
         135,
         0.1111111111111111,
         102.24,
         1,
         0,
         1,
         0
        ],
        [
         "b3aa7efe44584885ab9099a435a240ae",
         "2025-07-20",
         3,
         1.59,
         "individual",
         "STEM",
         68.0,
         "2025-07-20T00:00:00Z",
         "2025-08-03T22:48:46.844Z",
         14,
         0.04411764705882353,
         4.77,
         1,
         0,
         1,
         0
        ],
        [
         "a28defe39bf0427392476f57a5e5a5ab",
         "2025-02-06",
         6,
         33.15,
         "individual",
         "humanities",
         6.0,
         "2025-02-06T00:00:00Z",
         "2025-08-03T22:48:46.844Z",
         178,
         1.0,
         198.90001,
         1,
         0,
         0,
         0
        ],
        [
         "7656af7229d44eefbeabedcbbaa80dd4",
         "2025-03-23",
         3,
         44.71,
         "individual",
         "STEM",
         71.0,
         "2025-03-23T00:00:00Z",
         "2025-08-03T22:48:46.844Z",
         133,
         0.04225352112676056,
         134.13,
         1,
         0,
         1,
         0
        ],
        [
         "b02b61c4a3d74628ace66fa2fd5166e6",
         "2025-04-30",
         7,
         16.38,
         "individual",
         "humanities",
         12.0,
         "2025-04-30T00:00:00Z",
         "2025-08-03T22:48:46.844Z",
         95,
         0.5833333333333334,
         114.659996,
         1,
         0,
         0,
         0
        ],
        [
         "c4b032ccd7c544a59304317faf42e12f",
         "2025-06-16",
         3,
         13.28,
         "individual",
         "business",
         34.0,
         "2025-06-16T00:00:00Z",
         "2025-08-03T22:48:46.844Z",
         48,
         0.08823529411764706,
         39.84,
         1,
         0,
         1,
         0
        ],
        [
         "ce177b4e083748a39261a7ab3aa2e4f9",
         "2025-03-09",
         5,
         1.19,
         "individual",
         "business",
         5.0,
         "2025-03-09T00:00:00Z",
         "2025-08-03T22:48:46.844Z",
         147,
         1.0,
         5.9500003,
         1,
         0,
         0,
         0
        ],
        [
         "e9c349e0360248ac90f1bc81448aaa9e",
         "2025-07-21",
         3,
         22.27,
         "trial",
         "STEM",
         10.0,
         "2025-07-21T00:00:00Z",
         "2025-08-03T22:48:46.844Z",
         13,
         0.3,
         66.81,
         1,
         0,
         0,
         0
        ],
        [
         "366eb16f508e4ad7b7c93acfe059a0ee",
         "2025-05-21",
         8,
         17.02,
         "individual",
         "business",
         17.0,
         "2025-05-21T00:00:00Z",
         "2025-08-03T22:48:46.844Z",
         74,
         0.47058823529411764,
         136.16,
         1,
         0,
         0,
         0
        ],
        [
         "a491f0b2ea1f4a65a27a984d654821d0",
         "2025-04-09",
         2,
         0.83,
         "individual",
         "business",
         1.0,
         "2025-04-09T00:00:00Z",
         "2025-08-03T22:48:46.844Z",
         116,
         2.0,
         1.66,
         1,
         0,
         0,
         0
        ],
        [
         "beb799193f224af8a3bed01d43cf2fde",
         "2025-05-01",
         5,
         0.14,
         "trial",
         "humanities",
         32.0,
         "2025-05-01T00:00:00Z",
         "2025-08-03T22:48:46.844Z",
         94,
         0.15625,
         0.7,
         1,
         0,
         1,
         0
        ],
        [
         "6dadd6c795a74d79bf3c4c06434308bc",
         "2025-07-12",
         2,
         6.74,
         "individual",
         "STEM",
         13.0,
         "2025-07-12T00:00:00Z",
         "2025-08-03T22:48:46.844Z",
         22,
         0.15384615384615385,
         13.48,
         1,
         0,
         0,
         0
        ],
        [
         "ff50bde4382547b89cabcc97663f1c97",
         "2025-08-02",
         5,
         4.55,
         "trial",
         "humanities",
         4.0,
         "2025-08-02T00:00:00Z",
         "2025-08-03T22:48:46.844Z",
         1,
         1.25,
         22.75,
         1,
         0,
         0,
         0
        ],
        [
         "c17af08a174546d8be570ddf827050a8",
         "2025-01-11",
         3,
         2.49,
         "individual",
         "business",
         53.0,
         "2025-01-11T00:00:00Z",
         "2025-08-03T22:48:46.844Z",
         204,
         0.05660377358490566,
         7.4700003,
         1,
         0,
         1,
         0
        ],
        [
         "28f49481a0a04dc4a7209bdf1c11f735",
         "2025-06-19",
         3,
         12.8,
         "individual",
         "STEM",
         26.0,
         "2025-06-19T00:00:00Z",
         "2025-08-03T22:48:46.844Z",
         45,
         0.11538461538461539,
         38.4,
         1,
         0,
         0,
         0
        ],
        [
         "62801c4510434a1098ae43346c12ace8",
         "2025-03-23",
         3,
         1.13,
         "individual",
         "STEM",
         67.0,
         "2025-03-23T00:00:00Z",
         "2025-08-03T22:48:46.844Z",
         133,
         0.04477611940298507,
         3.3899999,
         1,
         0,
         1,
         0
        ],
        [
         "405cacec877449a9b7d21e02ff01cf99",
         "2025-07-27",
         5,
         7.53,
         "trial",
         "STEM",
         7.0,
         "2025-07-27T00:00:00Z",
         "2025-08-03T22:48:46.844Z",
         7,
         0.7142857142857143,
         37.65,
         1,
         0,
         0,
         0
        ],
        [
         "ae270da702f04b90b143262fdc5c0eed",
         "2025-06-04",
         8,
         2.96,
         "individual",
         "business",
         33.0,
         "2025-06-04T00:00:00Z",
         "2025-08-03T22:48:46.844Z",
         60,
         0.24242424242424243,
         23.68,
         1,
         0,
         1,
         0
        ],
        [
         "c039871089764334a2817efdae849217",
         "2025-02-27",
         2,
         4.74,
         "institutional",
         "business",
         37.0,
         "2025-02-27T00:00:00Z",
         "2025-08-03T22:48:46.844Z",
         157,
         0.05405405405405406,
         9.48,
         1,
         0,
         1,
         0
        ],
        [
         "4b22d3081c8e4ee99715bd6fa4161293",
         "2025-04-04",
         6,
         27.82,
         "individual",
         "humanities",
         55.0,
         "2025-04-04T00:00:00Z",
         "2025-08-03T22:48:46.844Z",
         121,
         0.10909090909090909,
         166.92,
         1,
         0,
         1,
         0
        ],
        [
         "b8db0672f42d47cc80d4af5974273ca3",
         "2025-07-07",
         6,
         61.78,
         "individual",
         "STEM",
         9.0,
         "2025-07-07T00:00:00Z",
         "2025-08-03T22:48:46.844Z",
         27,
         0.6666666666666666,
         370.68,
         1,
         0,
         0,
         0
        ],
        [
         "c30ff46e8026495fb8cda88b436d76e2",
         "2025-02-08",
         0,
         0.6,
         "individual",
         "humanities",
         12.0,
         "2025-02-08T00:00:00Z",
         "2025-08-03T22:48:46.844Z",
         176,
         0.0,
         0.0,
         1,
         0,
         0,
         0
        ],
        [
         "a013ac6ededa4e169b3dbd5ce9a1fa6f",
         "2025-03-05",
         5,
         3.88,
         "individual",
         "humanities",
         21.0,
         "2025-03-05T00:00:00Z",
         "2025-08-03T22:48:46.844Z",
         151,
         0.23809523809523808,
         19.400002,
         1,
         0,
         0,
         0
        ],
        [
         "32ebd6899be548c781f631d4a39231a7",
         "2025-02-02",
         5,
         9.62,
         "trial",
         "humanities",
         22.0,
         "2025-02-02T00:00:00Z",
         "2025-08-03T22:48:46.844Z",
         182,
         0.22727272727272727,
         48.1,
         1,
         0,
         0,
         0
        ],
        [
         "f4188f3f8a144e62a95b4715c333e861",
         "2025-06-16",
         6,
         10.69,
         "institutional",
         "humanities",
         65.0,
         "2025-06-16T00:00:00Z",
         "2025-08-03T22:48:46.844Z",
         48,
         0.09230769230769231,
         64.14,
         1,
         0,
         1,
         0
        ],
        [
         "99546eb400254ad1ab2263dd87c5421e",
         "2025-03-11",
         4,
         16.45,
         "individual",
         "business",
         14.0,
         "2025-03-11T00:00:00Z",
         "2025-08-03T22:48:46.844Z",
         145,
         0.2857142857142857,
         65.8,
         1,
         0,
         0,
         0
        ],
        [
         "5cec4eb5edd948319ca35cfb04fc6d82",
         "2025-07-08",
         1,
         14.93,
         "individual",
         "STEM",
         32.0,
         "2025-07-08T00:00:00Z",
         "2025-08-03T22:48:46.844Z",
         26,
         0.03125,
         14.93,
         1,
         0,
         1,
         0
        ],
        [
         "3d4cbf374eb94eff8e88cb2dd4e80839",
         "2025-01-13",
         7,
         24.44,
         "trial",
         "STEM",
         9.0,
         "2025-01-13T00:00:00Z",
         "2025-08-03T22:48:46.844Z",
         202,
         0.7777777777777778,
         171.08,
         1,
         0,
         0,
         0
        ],
        [
         "14296c07f26b4776913e4de2e0c53cb8",
         "2025-01-19",
         7,
         12.71,
         "individual",
         "humanities",
         72.0,
         "2025-01-19T00:00:00Z",
         "2025-08-03T22:48:46.844Z",
         196,
         0.09722222222222222,
         88.97,
         1,
         0,
         1,
         0
        ],
        [
         "fa5d310011b7494890e6e6607c69dee1",
         "2025-06-12",
         5,
         4.97,
         "trial",
         "STEM",
         67.0,
         "2025-06-12T00:00:00Z",
         "2025-08-03T22:48:46.844Z",
         52,
         0.07462686567164178,
         24.849998,
         1,
         0,
         1,
         0
        ],
        [
         "a8e56e0c20de435da031d750c40db9b4",
         "2025-04-12",
         6,
         22.82,
         "individual",
         "business",
         38.0,
         "2025-04-12T00:00:00Z",
         "2025-08-03T22:48:46.844Z",
         113,
         0.15789473684210525,
         136.92,
         1,
         0,
         1,
         0
        ],
        [
         "8715a10343da4043aa45c2ab8cbfedb0",
         "2025-07-06",
         4,
         9.97,
         "individual",
         "STEM",
         2.0,
         "2025-07-06T00:00:00Z",
         "2025-08-03T22:48:46.844Z",
         28,
         2.0,
         39.88,
         1,
         0,
         0,
         0
        ],
        [
         "edcd465e36384821b6e07cc06c52c49f",
         "2025-04-26",
         5,
         1.18,
         "institutional",
         "business",
         91.0,
         "2025-04-26T00:00:00Z",
         "2025-08-03T22:48:46.844Z",
         99,
         0.054945054945054944,
         5.8999996,
         1,
         0,
         1,
         0
        ],
        [
         "b683d2e6337e42dfb09b2a5cbadcc32a",
         "2025-03-08",
         4,
         0.17,
         "individual",
         "business",
         28.0,
         "2025-03-08T00:00:00Z",
         "2025-08-03T22:48:46.844Z",
         148,
         0.14285714285714285,
         0.68,
         1,
         0,
         0,
         0
        ]
       ],
       "datasetInfos": [],
       "dbfsResultPath": null,
       "isJsonSchema": true,
       "metadata": {},
       "overflow": false,
       "plotOptions": {
        "customPlotOptions": {},
        "displayType": "table",
        "pivotAggregation": null,
        "pivotColumns": null,
        "xColumns": null,
        "yColumns": null
       },
       "removedWidgets": [],
       "schema": [
        {
         "metadata": "{}",
         "name": "Customer_ID",
         "type": "\"string\""
        },
        {
         "metadata": "{}",
         "name": "Last_Login_Date",
         "type": "\"string\""
        },
        {
         "metadata": "{}",
         "name": "Ebooks_Downloaded_6_Months",
         "type": "\"integer\""
        },
        {
         "metadata": "{}",
         "name": "Average_Session_Time",
         "type": "\"float\""
        },
        {
         "metadata": "{}",
         "name": "Subscription_Plan_Type",
         "type": "\"string\""
        },
        {
         "metadata": "{}",
         "name": "Primary_Discipline",
         "type": "\"string\""
        },
        {
         "metadata": "{}",
         "name": "Days_Since_Last_Activity",
         "type": "\"float\""
        },
        {
         "metadata": "{}",
         "name": "last_login_timestamp",
         "type": "\"timestamp\""
        },
        {
         "metadata": "{}",
         "name": "current_timestamp",
         "type": "\"timestamp\""
        },
        {
         "metadata": "{}",
         "name": "days_since_login",
         "type": "\"integer\""
        },
        {
         "metadata": "{}",
         "name": "usage_intensity",
         "type": "\"double\""
        },
        {
         "metadata": "{}",
         "name": "engagement_score",
         "type": "\"float\""
        },
        {
         "metadata": "{}",
         "name": "subscription_tier_numeric",
         "type": "\"integer\""
        },
        {
         "metadata": "{}",
         "name": "high_downloads_low_sessions",
         "type": "\"integer\""
        },
        {
         "metadata": "{}",
         "name": "dormant_user",
         "type": "\"integer\""
        },
        {
         "metadata": "{}",
         "name": "power_user",
         "type": "\"integer\""
        }
       ],
       "type": "table"
      }
     },
     "output_type": "display_data"
    }
   ],
   "source": [
    "features_df = df_spark.withColumn(\"last_login_timestamp\", \n",
    "                               F.to_timestamp(F.col(\"Last_Login_Date\"), \"yyyy-MM-dd\")) \\\n",
    "                   .withColumn(\"current_timestamp\", F.current_timestamp()) \\\n",
    "                   .withColumn(\"days_since_login\", \n",
    "                              F.datediff(F.col(\"current_timestamp\"), F.col(\"last_login_timestamp\"))) \\\n",
    "                   .withColumn(\"usage_intensity\", \n",
    "                              F.col(\"Ebooks_Downloaded_6_Months\") / F.greatest(F.col(\"Days_Since_Last_Activity\"), F.lit(1))) \\\n",
    "                   .withColumn(\"engagement_score\", \n",
    "                              F.col(\"Average_Session_Time\") * F.col(\"Ebooks_Downloaded_6_Months\")) \\\n",
    "                   .withColumn(\"subscription_tier_numeric\", \n",
    "                              F.when(F.col(\"Subscription_Plan_Type\") == \"Premium\", 3)\n",
    "                               .when(F.col(\"Subscription_Plan_Type\") == \"Standard\", 2)\n",
    "                               .otherwise(1))\n",
    "\n",
    "# Add behavioral anomaly indicators\n",
    "features_df = features_df.withColumn(\"high_downloads_low_sessions\", \n",
    "                                   F.when((F.col(\"Ebooks_Downloaded_6_Months\") > 20) & \n",
    "                                         (F.col(\"Average_Session_Time\") < 15), 1).otherwise(0)) \\\n",
    "                        .withColumn(\"dormant_user\", \n",
    "                                   F.when(F.col(\"Days_Since_Last_Activity\") > 30, 1).otherwise(0)) \\\n",
    "                        .withColumn(\"power_user\", \n",
    "                                   F.when((F.col(\"Ebooks_Downloaded_6_Months\") > 50) & \n",
    "                                         (F.col(\"Average_Session_Time\") > 60), 1).otherwise(0))\n",
    "\n",
    "display(features_df)"
   ]
  },
  {
   "cell_type": "code",
   "execution_count": 0,
   "metadata": {
    "application/vnd.databricks.v1+cell": {
     "cellMetadata": {
      "byteLimit": 2048000,
      "rowLimit": 10000
     },
     "inputWidgets": {},
     "nuid": "6c6538ab-c97c-48a4-bc83-c18812a85c7c",
     "showTitle": false,
     "tableResultSettingsMap": {},
     "title": ""
    }
   },
   "outputs": [
    {
     "output_type": "display_data",
     "data": {
      "text/html": [
       "<style scoped>\n",
       "  .table-result-container {\n",
       "    max-height: 300px;\n",
       "    overflow: auto;\n",
       "  }\n",
       "  table, th, td {\n",
       "    border: 1px solid black;\n",
       "    border-collapse: collapse;\n",
       "  }\n",
       "  th, td {\n",
       "    padding: 5px;\n",
       "  }\n",
       "  th {\n",
       "    text-align: left;\n",
       "  }\n",
       "</style><div class='table-result-container'><table class='table-result'><thead style='background-color: white'><tr><th>Customer_ID</th><th>days_since_login</th><th>Ebooks_Downloaded_6_Months</th><th>Average_Session_Time</th><th>Days_Since_Last_Activity</th><th>engagement_score</th><th>subscription_tier_numeric</th><th>feature_timestamp</th></tr></thead><tbody><tr><td>bdd640fb06674ad19c80317fa3b1799d</td><td>156</td><td>5</td><td>2.67</td><td>9.0</td><td>3.3690000534057614</td><td>1</td><td>2025-08-03T22:48:47.369Z</td></tr><tr><td>1a3d1fa7bc8940a9a3b8c1e9392456de</td><td>70</td><td>5</td><td>5.77</td><td>13.0</td><td>5.53899998664856</td><td>1</td><td>2025-08-03T22:48:47.369Z</td></tr><tr><td>972a846916414f828b9d2434e465e150</td><td>124</td><td>9</td><td>1.35</td><td>80.0</td><td>3.6450000166893</td><td>1</td><td>2025-08-03T22:48:47.369Z</td></tr><tr><td>3b8faa1837f8488b97fc695a07a0ca6e</td><td>106</td><td>4</td><td>21.52</td><td>23.0</td><td>16.26400032043457</td><td>1</td><td>2025-08-03T22:48:47.369Z</td></tr><tr><td>b74d0fb132e746298fadc1a606cb0fb3</td><td>75</td><td>8</td><td>9.38</td><td>45.0</td><td>8.966000080108643</td><td>1</td><td>2025-08-03T22:48:47.369Z</td></tr><tr><td>72ff5d2a386e4be0ab65a6a48b8148f6</td><td>88</td><td>5</td><td>5.45</td><td>6.0</td><td>5.3149998664855955</td><td>1</td><td>2025-08-03T22:48:47.369Z</td></tr><tr><td>c241330b01a9471f9e8a774bcf36d58b</td><td>42</td><td>5</td><td>6.38</td><td>19.0</td><td>5.966000080108643</td><td>1</td><td>2025-08-03T22:48:47.369Z</td></tr><tr><td>47229389571a4876ac307511b2b9437a</td><td>181</td><td>6</td><td>10.05</td><td>13.0</td><td>8.835000133514404</td><td>1</td><td>2025-08-03T22:48:47.369Z</td></tr><tr><td>1a2a73ed562b4f79837459eef50bea63</td><td>195</td><td>11</td><td>5.29</td><td>19.0</td><td>7.002999973297118</td><td>1</td><td>2025-08-03T22:48:47.369Z</td></tr><tr><td>580d7b71d8f544139be6128e18c26797</td><td>85</td><td>5</td><td>12.54</td><td>80.0</td><td>10.277999973297119</td><td>1</td><td>2025-08-03T22:48:47.369Z</td></tr><tr><td>759cde66bacf43d08b1f9163ce9ff57f</td><td>100</td><td>8</td><td>6.43</td><td>1.0</td><td>6.900999879837036</td><td>1</td><td>2025-08-03T22:48:47.369Z</td></tr><tr><td>142c3fe860e74113ac1b8ca1f91e1d4c</td><td>96</td><td>4</td><td>1.57</td><td>24.0</td><td>2.2990000367164614</td><td>1</td><td>2025-08-03T22:48:47.369Z</td></tr><tr><td>e2acf72f9e574f7aa0ee89aed453dd32</td><td>30</td><td>8</td><td>1.11</td><td>9.0</td><td>3.1770000100135802</td><td>1</td><td>2025-08-03T22:48:47.369Z</td></tr><tr><td>11ce5dd2b45e41f0b139d32c93cd59bf</td><td>205</td><td>3</td><td>11.42</td><td>5.0</td><td>8.894000053405762</td><td>1</td><td>2025-08-03T22:48:47.369Z</td></tr><tr><td>fc377a4c4a15444d85e7ce8a3a578a8e</td><td>197</td><td>6</td><td>15.64</td><td>11.0</td><td>12.748000240325926</td><td>1</td><td>2025-08-03T22:48:47.369Z</td></tr><tr><td>614ff3d719db4ad09dd1dfb23b982ef8</td><td>155</td><td>8</td><td>18.85</td><td>38.0</td><td>15.595000267028809</td><td>1</td><td>2025-08-03T22:48:47.369Z</td></tr><tr><td>29a3b2e95d654441958842dea2bc372f</td><td>135</td><td>9</td><td>11.36</td><td>81.0</td><td>10.651999759674071</td><td>1</td><td>2025-08-03T22:48:47.369Z</td></tr><tr><td>b3aa7efe44584885ab9099a435a240ae</td><td>14</td><td>3</td><td>1.59</td><td>68.0</td><td>2.0130000233650205</td><td>1</td><td>2025-08-03T22:48:47.369Z</td></tr><tr><td>a28defe39bf0427392476f57a5e5a5ab</td><td>178</td><td>6</td><td>33.15</td><td>6.0</td><td>25.005001068115234</td><td>1</td><td>2025-08-03T22:48:47.369Z</td></tr><tr><td>7656af7229d44eefbeabedcbbaa80dd4</td><td>133</td><td>3</td><td>44.71</td><td>71.0</td><td>32.19699935913086</td><td>1</td><td>2025-08-03T22:48:47.369Z</td></tr><tr><td>b02b61c4a3d74628ace66fa2fd5166e6</td><td>95</td><td>7</td><td>16.38</td><td>12.0</td><td>13.56599941253662</td><td>1</td><td>2025-08-03T22:48:47.369Z</td></tr><tr><td>c4b032ccd7c544a59304317faf42e12f</td><td>48</td><td>3</td><td>13.28</td><td>34.0</td><td>10.195999813079833</td><td>1</td><td>2025-08-03T22:48:47.369Z</td></tr><tr><td>ce177b4e083748a39261a7ab3aa2e4f9</td><td>147</td><td>5</td><td>1.19</td><td>5.0</td><td>2.3330000400543214</td><td>1</td><td>2025-08-03T22:48:47.369Z</td></tr><tr><td>e9c349e0360248ac90f1bc81448aaa9e</td><td>13</td><td>3</td><td>22.27</td><td>10.0</td><td>16.48900032043457</td><td>1</td><td>2025-08-03T22:48:47.369Z</td></tr><tr><td>366eb16f508e4ad7b7c93acfe059a0ee</td><td>74</td><td>8</td><td>17.02</td><td>17.0</td><td>14.31400032043457</td><td>1</td><td>2025-08-03T22:48:47.369Z</td></tr><tr><td>a491f0b2ea1f4a65a27a984d654821d0</td><td>116</td><td>2</td><td>0.83</td><td>1.0</td><td>1.1809999883174895</td><td>1</td><td>2025-08-03T22:48:47.369Z</td></tr><tr><td>beb799193f224af8a3bed01d43cf2fde</td><td>94</td><td>5</td><td>0.14</td><td>32.0</td><td>1.5980000004172326</td><td>1</td><td>2025-08-03T22:48:47.369Z</td></tr><tr><td>6dadd6c795a74d79bf3c4c06434308bc</td><td>22</td><td>2</td><td>6.74</td><td>13.0</td><td>5.317999839782714</td><td>1</td><td>2025-08-03T22:48:47.369Z</td></tr><tr><td>ff50bde4382547b89cabcc97663f1c97</td><td>1</td><td>5</td><td>4.55</td><td>4.0</td><td>4.685000133514404</td><td>1</td><td>2025-08-03T22:48:47.369Z</td></tr><tr><td>c17af08a174546d8be570ddf827050a8</td><td>204</td><td>3</td><td>2.49</td><td>53.0</td><td>2.64300000667572</td><td>1</td><td>2025-08-03T22:48:47.369Z</td></tr><tr><td>28f49481a0a04dc4a7209bdf1c11f735</td><td>45</td><td>3</td><td>12.8</td><td>26.0</td><td>9.860000133514404</td><td>1</td><td>2025-08-03T22:48:47.369Z</td></tr><tr><td>62801c4510434a1098ae43346c12ace8</td><td>133</td><td>3</td><td>1.13</td><td>67.0</td><td>1.6909999966621396</td><td>1</td><td>2025-08-03T22:48:47.369Z</td></tr><tr><td>405cacec877449a9b7d21e02ff01cf99</td><td>7</td><td>5</td><td>7.53</td><td>7.0</td><td>6.771000146865845</td><td>1</td><td>2025-08-03T22:48:47.369Z</td></tr><tr><td>ae270da702f04b90b143262fdc5c0eed</td><td>60</td><td>8</td><td>2.96</td><td>33.0</td><td>4.472000026702881</td><td>1</td><td>2025-08-03T22:48:47.369Z</td></tr><tr><td>c039871089764334a2817efdae849217</td><td>157</td><td>2</td><td>4.74</td><td>37.0</td><td>3.917999839782715</td><td>1</td><td>2025-08-03T22:48:47.369Z</td></tr><tr><td>4b22d3081c8e4ee99715bd6fa4161293</td><td>121</td><td>6</td><td>27.82</td><td>55.0</td><td>21.27399978637695</td><td>1</td><td>2025-08-03T22:48:47.369Z</td></tr><tr><td>b8db0672f42d47cc80d4af5974273ca3</td><td>27</td><td>6</td><td>61.78</td><td>9.0</td><td>45.04599914550781</td><td>1</td><td>2025-08-03T22:48:47.369Z</td></tr><tr><td>c30ff46e8026495fb8cda88b436d76e2</td><td>176</td><td>0</td><td>0.6</td><td>12.0</td><td>0.42000001668930054</td><td>1</td><td>2025-08-03T22:48:47.369Z</td></tr><tr><td>a013ac6ededa4e169b3dbd5ce9a1fa6f</td><td>151</td><td>5</td><td>3.88</td><td>21.0</td><td>4.216000080108643</td><td>1</td><td>2025-08-03T22:48:47.369Z</td></tr><tr><td>32ebd6899be548c781f631d4a39231a7</td><td>182</td><td>5</td><td>9.62</td><td>22.0</td><td>8.233999919891357</td><td>1</td><td>2025-08-03T22:48:47.369Z</td></tr><tr><td>f4188f3f8a144e62a95b4715c333e861</td><td>48</td><td>6</td><td>10.69</td><td>65.0</td><td>9.28299970626831</td><td>1</td><td>2025-08-03T22:48:47.369Z</td></tr><tr><td>99546eb400254ad1ab2263dd87c5421e</td><td>145</td><td>4</td><td>16.45</td><td>14.0</td><td>12.715000534057616</td><td>1</td><td>2025-08-03T22:48:47.369Z</td></tr><tr><td>5cec4eb5edd948319ca35cfb04fc6d82</td><td>26</td><td>1</td><td>14.93</td><td>32.0</td><td>10.751000213623048</td><td>1</td><td>2025-08-03T22:48:47.369Z</td></tr><tr><td>3d4cbf374eb94eff8e88cb2dd4e80839</td><td>202</td><td>7</td><td>24.44</td><td>9.0</td><td>19.20800037384033</td><td>1</td><td>2025-08-03T22:48:47.369Z</td></tr><tr><td>14296c07f26b4776913e4de2e0c53cb8</td><td>196</td><td>7</td><td>12.71</td><td>72.0</td><td>10.99700002670288</td><td>1</td><td>2025-08-03T22:48:47.369Z</td></tr><tr><td>fa5d310011b7494890e6e6607c69dee1</td><td>52</td><td>5</td><td>4.97</td><td>67.0</td><td>4.978999853134155</td><td>1</td><td>2025-08-03T22:48:47.369Z</td></tr><tr><td>a8e56e0c20de435da031d750c40db9b4</td><td>113</td><td>6</td><td>22.82</td><td>38.0</td><td>17.77399978637695</td><td>1</td><td>2025-08-03T22:48:47.369Z</td></tr><tr><td>8715a10343da4043aa45c2ab8cbfedb0</td><td>28</td><td>4</td><td>9.97</td><td>2.0</td><td>8.179000186920165</td><td>1</td><td>2025-08-03T22:48:47.369Z</td></tr><tr><td>edcd465e36384821b6e07cc06c52c49f</td><td>99</td><td>5</td><td>1.18</td><td>91.0</td><td>2.3259999632835386</td><td>1</td><td>2025-08-03T22:48:47.369Z</td></tr><tr><td>b683d2e6337e42dfb09b2a5cbadcc32a</td><td>148</td><td>4</td><td>0.17</td><td>28.0</td><td>1.3190000012516976</td><td>1</td><td>2025-08-03T22:48:47.369Z</td></tr></tbody></table></div>"
      ]
     },
     "metadata": {
      "application/vnd.databricks.v1+output": {
       "addedWidgets": {},
       "aggData": [],
       "aggError": "",
       "aggOverflow": false,
       "aggSchema": [],
       "aggSeriesLimitReached": false,
       "aggType": "",
       "arguments": {},
       "columnCustomDisplayInfos": {},
       "data": [
        [
         "bdd640fb06674ad19c80317fa3b1799d",
         156,
         5,
         2.67,
         9.0,
         3.3690000534057614,
         1,
         "2025-08-03T22:48:47.369Z"
        ],
        [
         "1a3d1fa7bc8940a9a3b8c1e9392456de",
         70,
         5,
         5.77,
         13.0,
         5.53899998664856,
         1,
         "2025-08-03T22:48:47.369Z"
        ],
        [
         "972a846916414f828b9d2434e465e150",
         124,
         9,
         1.35,
         80.0,
         3.6450000166893,
         1,
         "2025-08-03T22:48:47.369Z"
        ],
        [
         "3b8faa1837f8488b97fc695a07a0ca6e",
         106,
         4,
         21.52,
         23.0,
         16.26400032043457,
         1,
         "2025-08-03T22:48:47.369Z"
        ],
        [
         "b74d0fb132e746298fadc1a606cb0fb3",
         75,
         8,
         9.38,
         45.0,
         8.966000080108643,
         1,
         "2025-08-03T22:48:47.369Z"
        ],
        [
         "72ff5d2a386e4be0ab65a6a48b8148f6",
         88,
         5,
         5.45,
         6.0,
         5.3149998664855955,
         1,
         "2025-08-03T22:48:47.369Z"
        ],
        [
         "c241330b01a9471f9e8a774bcf36d58b",
         42,
         5,
         6.38,
         19.0,
         5.966000080108643,
         1,
         "2025-08-03T22:48:47.369Z"
        ],
        [
         "47229389571a4876ac307511b2b9437a",
         181,
         6,
         10.05,
         13.0,
         8.835000133514404,
         1,
         "2025-08-03T22:48:47.369Z"
        ],
        [
         "1a2a73ed562b4f79837459eef50bea63",
         195,
         11,
         5.29,
         19.0,
         7.002999973297118,
         1,
         "2025-08-03T22:48:47.369Z"
        ],
        [
         "580d7b71d8f544139be6128e18c26797",
         85,
         5,
         12.54,
         80.0,
         10.277999973297119,
         1,
         "2025-08-03T22:48:47.369Z"
        ],
        [
         "759cde66bacf43d08b1f9163ce9ff57f",
         100,
         8,
         6.43,
         1.0,
         6.900999879837036,
         1,
         "2025-08-03T22:48:47.369Z"
        ],
        [
         "142c3fe860e74113ac1b8ca1f91e1d4c",
         96,
         4,
         1.57,
         24.0,
         2.2990000367164614,
         1,
         "2025-08-03T22:48:47.369Z"
        ],
        [
         "e2acf72f9e574f7aa0ee89aed453dd32",
         30,
         8,
         1.11,
         9.0,
         3.1770000100135802,
         1,
         "2025-08-03T22:48:47.369Z"
        ],
        [
         "11ce5dd2b45e41f0b139d32c93cd59bf",
         205,
         3,
         11.42,
         5.0,
         8.894000053405762,
         1,
         "2025-08-03T22:48:47.369Z"
        ],
        [
         "fc377a4c4a15444d85e7ce8a3a578a8e",
         197,
         6,
         15.64,
         11.0,
         12.748000240325926,
         1,
         "2025-08-03T22:48:47.369Z"
        ],
        [
         "614ff3d719db4ad09dd1dfb23b982ef8",
         155,
         8,
         18.85,
         38.0,
         15.595000267028809,
         1,
         "2025-08-03T22:48:47.369Z"
        ],
        [
         "29a3b2e95d654441958842dea2bc372f",
         135,
         9,
         11.36,
         81.0,
         10.651999759674071,
         1,
         "2025-08-03T22:48:47.369Z"
        ],
        [
         "b3aa7efe44584885ab9099a435a240ae",
         14,
         3,
         1.59,
         68.0,
         2.0130000233650205,
         1,
         "2025-08-03T22:48:47.369Z"
        ],
        [
         "a28defe39bf0427392476f57a5e5a5ab",
         178,
         6,
         33.15,
         6.0,
         25.005001068115234,
         1,
         "2025-08-03T22:48:47.369Z"
        ],
        [
         "7656af7229d44eefbeabedcbbaa80dd4",
         133,
         3,
         44.71,
         71.0,
         32.19699935913086,
         1,
         "2025-08-03T22:48:47.369Z"
        ],
        [
         "b02b61c4a3d74628ace66fa2fd5166e6",
         95,
         7,
         16.38,
         12.0,
         13.56599941253662,
         1,
         "2025-08-03T22:48:47.369Z"
        ],
        [
         "c4b032ccd7c544a59304317faf42e12f",
         48,
         3,
         13.28,
         34.0,
         10.195999813079833,
         1,
         "2025-08-03T22:48:47.369Z"
        ],
        [
         "ce177b4e083748a39261a7ab3aa2e4f9",
         147,
         5,
         1.19,
         5.0,
         2.3330000400543214,
         1,
         "2025-08-03T22:48:47.369Z"
        ],
        [
         "e9c349e0360248ac90f1bc81448aaa9e",
         13,
         3,
         22.27,
         10.0,
         16.48900032043457,
         1,
         "2025-08-03T22:48:47.369Z"
        ],
        [
         "366eb16f508e4ad7b7c93acfe059a0ee",
         74,
         8,
         17.02,
         17.0,
         14.31400032043457,
         1,
         "2025-08-03T22:48:47.369Z"
        ],
        [
         "a491f0b2ea1f4a65a27a984d654821d0",
         116,
         2,
         0.83,
         1.0,
         1.1809999883174895,
         1,
         "2025-08-03T22:48:47.369Z"
        ],
        [
         "beb799193f224af8a3bed01d43cf2fde",
         94,
         5,
         0.14,
         32.0,
         1.5980000004172326,
         1,
         "2025-08-03T22:48:47.369Z"
        ],
        [
         "6dadd6c795a74d79bf3c4c06434308bc",
         22,
         2,
         6.74,
         13.0,
         5.317999839782714,
         1,
         "2025-08-03T22:48:47.369Z"
        ],
        [
         "ff50bde4382547b89cabcc97663f1c97",
         1,
         5,
         4.55,
         4.0,
         4.685000133514404,
         1,
         "2025-08-03T22:48:47.369Z"
        ],
        [
         "c17af08a174546d8be570ddf827050a8",
         204,
         3,
         2.49,
         53.0,
         2.64300000667572,
         1,
         "2025-08-03T22:48:47.369Z"
        ],
        [
         "28f49481a0a04dc4a7209bdf1c11f735",
         45,
         3,
         12.8,
         26.0,
         9.860000133514404,
         1,
         "2025-08-03T22:48:47.369Z"
        ],
        [
         "62801c4510434a1098ae43346c12ace8",
         133,
         3,
         1.13,
         67.0,
         1.6909999966621396,
         1,
         "2025-08-03T22:48:47.369Z"
        ],
        [
         "405cacec877449a9b7d21e02ff01cf99",
         7,
         5,
         7.53,
         7.0,
         6.771000146865845,
         1,
         "2025-08-03T22:48:47.369Z"
        ],
        [
         "ae270da702f04b90b143262fdc5c0eed",
         60,
         8,
         2.96,
         33.0,
         4.472000026702881,
         1,
         "2025-08-03T22:48:47.369Z"
        ],
        [
         "c039871089764334a2817efdae849217",
         157,
         2,
         4.74,
         37.0,
         3.917999839782715,
         1,
         "2025-08-03T22:48:47.369Z"
        ],
        [
         "4b22d3081c8e4ee99715bd6fa4161293",
         121,
         6,
         27.82,
         55.0,
         21.27399978637695,
         1,
         "2025-08-03T22:48:47.369Z"
        ],
        [
         "b8db0672f42d47cc80d4af5974273ca3",
         27,
         6,
         61.78,
         9.0,
         45.04599914550781,
         1,
         "2025-08-03T22:48:47.369Z"
        ],
        [
         "c30ff46e8026495fb8cda88b436d76e2",
         176,
         0,
         0.6,
         12.0,
         0.42000001668930054,
         1,
         "2025-08-03T22:48:47.369Z"
        ],
        [
         "a013ac6ededa4e169b3dbd5ce9a1fa6f",
         151,
         5,
         3.88,
         21.0,
         4.216000080108643,
         1,
         "2025-08-03T22:48:47.369Z"
        ],
        [
         "32ebd6899be548c781f631d4a39231a7",
         182,
         5,
         9.62,
         22.0,
         8.233999919891357,
         1,
         "2025-08-03T22:48:47.369Z"
        ],
        [
         "f4188f3f8a144e62a95b4715c333e861",
         48,
         6,
         10.69,
         65.0,
         9.28299970626831,
         1,
         "2025-08-03T22:48:47.369Z"
        ],
        [
         "99546eb400254ad1ab2263dd87c5421e",
         145,
         4,
         16.45,
         14.0,
         12.715000534057616,
         1,
         "2025-08-03T22:48:47.369Z"
        ],
        [
         "5cec4eb5edd948319ca35cfb04fc6d82",
         26,
         1,
         14.93,
         32.0,
         10.751000213623048,
         1,
         "2025-08-03T22:48:47.369Z"
        ],
        [
         "3d4cbf374eb94eff8e88cb2dd4e80839",
         202,
         7,
         24.44,
         9.0,
         19.20800037384033,
         1,
         "2025-08-03T22:48:47.369Z"
        ],
        [
         "14296c07f26b4776913e4de2e0c53cb8",
         196,
         7,
         12.71,
         72.0,
         10.99700002670288,
         1,
         "2025-08-03T22:48:47.369Z"
        ],
        [
         "fa5d310011b7494890e6e6607c69dee1",
         52,
         5,
         4.97,
         67.0,
         4.978999853134155,
         1,
         "2025-08-03T22:48:47.369Z"
        ],
        [
         "a8e56e0c20de435da031d750c40db9b4",
         113,
         6,
         22.82,
         38.0,
         17.77399978637695,
         1,
         "2025-08-03T22:48:47.369Z"
        ],
        [
         "8715a10343da4043aa45c2ab8cbfedb0",
         28,
         4,
         9.97,
         2.0,
         8.179000186920165,
         1,
         "2025-08-03T22:48:47.369Z"
        ],
        [
         "edcd465e36384821b6e07cc06c52c49f",
         99,
         5,
         1.18,
         91.0,
         2.3259999632835386,
         1,
         "2025-08-03T22:48:47.369Z"
        ],
        [
         "b683d2e6337e42dfb09b2a5cbadcc32a",
         148,
         4,
         0.17,
         28.0,
         1.3190000012516976,
         1,
         "2025-08-03T22:48:47.369Z"
        ]
       ],
       "datasetInfos": [],
       "dbfsResultPath": null,
       "isJsonSchema": true,
       "metadata": {},
       "overflow": false,
       "plotOptions": {
        "customPlotOptions": {},
        "displayType": "table",
        "pivotAggregation": null,
        "pivotColumns": null,
        "xColumns": null,
        "yColumns": null
       },
       "removedWidgets": [],
       "schema": [
        {
         "metadata": "{}",
         "name": "Customer_ID",
         "type": "\"string\""
        },
        {
         "metadata": "{}",
         "name": "days_since_login",
         "type": "\"integer\""
        },
        {
         "metadata": "{}",
         "name": "Ebooks_Downloaded_6_Months",
         "type": "\"integer\""
        },
        {
         "metadata": "{}",
         "name": "Average_Session_Time",
         "type": "\"float\""
        },
        {
         "metadata": "{}",
         "name": "Days_Since_Last_Activity",
         "type": "\"float\""
        },
        {
         "metadata": "{}",
         "name": "engagement_score",
         "type": "\"double\""
        },
        {
         "metadata": "{}",
         "name": "subscription_tier_numeric",
         "type": "\"integer\""
        },
        {
         "metadata": "{}",
         "name": "feature_timestamp",
         "type": "\"timestamp\""
        }
       ],
       "type": "table"
      }
     },
     "output_type": "display_data"
    }
   ],
   "source": [
    "# Convert date column and calculate additional features\n",
    "features_df = df_spark.withColumn(\"Last_Login_Date\", F.to_date(F.col(\"Last_Login_Date\"), \"yyyy-MM-dd\")) \\\n",
    "    .withColumn(\"current_date\", F.current_date()) \\\n",
    "    .withColumn(\"days_since_login\", F.datediff(F.col(\"current_date\"), F.col(\"Last_Login_Date\"))) \\\n",
    "    .withColumn(\"engagement_score\", \n",
    "                F.col(\"Ebooks_Downloaded_6_Months\") * 0.3 + \n",
    "                F.col(\"Average_Session_Time\") * 0.7) \\\n",
    "    .withColumn(\"usage_intensity\", \n",
    "                F.when(F.col(\"Days_Since_Last_Activity\") <= 7, \"High\")\n",
    "                .when(F.col(\"Days_Since_Last_Activity\") <= 30, \"Medium\")\n",
    "                .otherwise(\"Low\")) \\\n",
    "    .withColumn(\"subscription_tier_numeric\", \n",
    "                F.when(F.col(\"Subscription_Plan_Type\") == \"Premium\", 3)\n",
    "                .when(F.col(\"Subscription_Plan_Type\") == \"Standard\", 2)\n",
    "                .otherwise(1)) \\\n",
    "    .withColumn(\"feature_timestamp\", F.current_timestamp())\n",
    "\n",
    "\n",
    "def select_features_for_ml(df):\n",
    "    \"\"\"\n",
    "    Select final features for ML model\n",
    "    Following dbdemos pattern for feature selection\n",
    "    \"\"\"\n",
    "    # Define feature columns for ML (numerical features only for anomaly detection)\n",
    "    feature_columns = [\n",
    "        \"Customer_ID\",\n",
    "        \"days_since_login\", \n",
    "        \"Ebooks_Downloaded_6_Months\",\n",
    "        \"Average_Session_Time\",\n",
    "        \"Days_Since_Last_Activity\",\n",
    "        \"engagement_score\",\n",
    "        \"subscription_tier_numeric\",\n",
    "        \"feature_timestamp\"\n",
    "    ]\n",
    "    \n",
    "    df_final = df.select(*feature_columns)\n",
    "    \n",
    "    print(f\"Selected {len(feature_columns)-2} features for ML\") # -2 for ID and timestamp\n",
    "    return df_final\n",
    "\n",
    "# Create final feature dataset\n",
    "df_features_final = select_features_for_ml(features_df)\n",
    "display(df_features_final)"
   ]
  },
  {
   "cell_type": "code",
   "execution_count": 0,
   "metadata": {
    "application/vnd.databricks.v1+cell": {
     "cellMetadata": {
      "byteLimit": 2048000,
      "rowLimit": 10000
     },
     "inputWidgets": {},
     "nuid": "62b3541f-9990-482b-8144-a1f5fedf56a7",
     "showTitle": false,
     "tableResultSettingsMap": {},
     "title": ""
    }
   },
   "outputs": [
    {
     "output_type": "display_data",
     "data": {
      "text/html": [
       "<style scoped>\n",
       "  .table-result-container {\n",
       "    max-height: 300px;\n",
       "    overflow: auto;\n",
       "  }\n",
       "  table, th, td {\n",
       "    border: 1px solid black;\n",
       "    border-collapse: collapse;\n",
       "  }\n",
       "  th, td {\n",
       "    padding: 5px;\n",
       "  }\n",
       "  th {\n",
       "    text-align: left;\n",
       "  }\n",
       "</style><div class='table-result-container'><table class='table-result'><thead style='background-color: white'><tr><th>summary</th><th>Customer_ID</th><th>days_since_login</th><th>Ebooks_Downloaded_6_Months</th><th>Average_Session_Time</th><th>Days_Since_Last_Activity</th><th>engagement_score</th><th>subscription_tier_numeric</th></tr></thead><tbody><tr><td>count</td><td>50</td><td>50</td><td>50</td><td>50</td><td>50</td><td>50</td><td>50</td></tr><tr><td>mean</td><td>null</td><td>105.9</td><td>5.12</td><td>11.24620002269745</td><td>30.18</td><td>9.408340015888214</td><td>1.0</td></tr><tr><td>stddev</td><td>null</td><td>61.52260245019627</td><td>2.2373453657659303</td><td>11.866951443515598</td><td>25.869129029302353</td><td>8.386561771082146</td><td>0.0</td></tr><tr><td>min</td><td>11ce5dd2b45e41f0b139d32c93cd59bf</td><td>1</td><td>0</td><td>0.14</td><td>1.0</td><td>0.42000001668930054</td><td>1</td></tr><tr><td>max</td><td>ff50bde4382547b89cabcc97663f1c97</td><td>205</td><td>11</td><td>61.78</td><td>91.0</td><td>45.04599914550781</td><td>1</td></tr></tbody></table></div>"
      ]
     },
     "metadata": {
      "application/vnd.databricks.v1+output": {
       "addedWidgets": {},
       "aggData": [],
       "aggError": "",
       "aggOverflow": false,
       "aggSchema": [],
       "aggSeriesLimitReached": false,
       "aggType": "",
       "arguments": {},
       "columnCustomDisplayInfos": {},
       "data": [
        [
         "count",
         "50",
         "50",
         "50",
         "50",
         "50",
         "50",
         "50"
        ],
        [
         "mean",
         null,
         "105.9",
         "5.12",
         "11.24620002269745",
         "30.18",
         "9.408340015888214",
         "1.0"
        ],
        [
         "stddev",
         null,
         "61.52260245019627",
         "2.2373453657659303",
         "11.866951443515598",
         "25.869129029302353",
         "8.386561771082146",
         "0.0"
        ],
        [
         "min",
         "11ce5dd2b45e41f0b139d32c93cd59bf",
         "1",
         "0",
         "0.14",
         "1.0",
         "0.42000001668930054",
         "1"
        ],
        [
         "max",
         "ff50bde4382547b89cabcc97663f1c97",
         "205",
         "11",
         "61.78",
         "91.0",
         "45.04599914550781",
         "1"
        ]
       ],
       "datasetInfos": [],
       "dbfsResultPath": null,
       "isJsonSchema": true,
       "metadata": {},
       "overflow": false,
       "plotOptions": {
        "customPlotOptions": {},
        "displayType": "table",
        "pivotAggregation": null,
        "pivotColumns": null,
        "xColumns": null,
        "yColumns": null
       },
       "removedWidgets": [],
       "schema": [
        {
         "metadata": "{}",
         "name": "summary",
         "type": "\"string\""
        },
        {
         "metadata": "{}",
         "name": "Customer_ID",
         "type": "\"string\""
        },
        {
         "metadata": "{}",
         "name": "days_since_login",
         "type": "\"string\""
        },
        {
         "metadata": "{}",
         "name": "Ebooks_Downloaded_6_Months",
         "type": "\"string\""
        },
        {
         "metadata": "{}",
         "name": "Average_Session_Time",
         "type": "\"string\""
        },
        {
         "metadata": "{}",
         "name": "Days_Since_Last_Activity",
         "type": "\"string\""
        },
        {
         "metadata": "{}",
         "name": "engagement_score",
         "type": "\"string\""
        },
        {
         "metadata": "{}",
         "name": "subscription_tier_numeric",
         "type": "\"string\""
        }
       ],
       "type": "table"
      }
     },
     "output_type": "display_data"
    }
   ],
   "source": [
    "# Display feature statistics\n",
    "display(df_features_final.describe())"
   ]
  },
  {
   "cell_type": "markdown",
   "metadata": {
    "application/vnd.databricks.v1+cell": {
     "cellMetadata": {
      "byteLimit": 2048000,
      "rowLimit": 10000
     },
     "inputWidgets": {},
     "nuid": "ebf4070f-28ad-4bbc-8996-412d2291026a",
     "showTitle": false,
     "tableResultSettingsMap": {},
     "title": ""
    }
   },
   "source": [
    "## Create Feature Store Table"
   ]
  },
  {
   "cell_type": "code",
   "execution_count": 0,
   "metadata": {
    "application/vnd.databricks.v1+cell": {
     "cellMetadata": {
      "byteLimit": 2048000,
      "rowLimit": 10000
     },
     "inputWidgets": {},
     "nuid": "047e0f97-46d8-4ec8-a217-8dbd9aaf3443",
     "showTitle": false,
     "tableResultSettingsMap": {},
     "title": ""
    }
   },
   "outputs": [
    {
     "output_type": "execute_result",
     "data": {
      "text/plain": [
       "<FeatureTable: name='main.ttw_workshop_demo.customer_features', table_id='a99a96df-e158-451e-8238-1a2a36bccc2d', description='Customer engagement features for anomaly detection - following dbdemos pattern', primary_keys=['Customer_ID', 'feature_timestamp'], partition_columns=[], features=['Customer_ID',\n",
       " 'days_since_login',\n",
       " 'Ebooks_Downloaded_6_Months',\n",
       " 'Average_Session_Time',\n",
       " 'Days_Since_Last_Activity',\n",
       " 'engagement_score',\n",
       " 'subscription_tier_numeric',\n",
       " 'feature_timestamp'], creation_timestamp=1754261937664, online_stores=[], notebook_producers=[], job_producers=[], table_data_sources=[], path_data_sources=[], custom_data_sources=[], timestamp_keys=['feature_timestamp'], tags={}>"
      ]
     },
     "execution_count": 64,
     "metadata": {},
     "output_type": "execute_result"
    }
   ],
   "source": [
    "try:\n",
    "    spark.sql(f\"DROP TABLE IF EXISTS {feature_table_name}\")\n",
    "    print(f\"Dropped existing table: {feature_table_name}\")\n",
    "except:\n",
    "    pass\n",
    "\n",
    "# Create the feature table\n",
    "fe.create_table(\n",
    "    name=feature_table_name,\n",
    "    primary_keys=[\"Customer_ID\", \"feature_timestamp\"],\n",
    "    timestamp_keys=[\"feature_timestamp\"],\n",
    "    df=features_final,\n",
    "    description=\"Customer engagement features for anomaly detection - following dbdemos pattern\"\n",
    ")"
   ]
  },
  {
   "cell_type": "code",
   "execution_count": 0,
   "metadata": {
    "application/vnd.databricks.v1+cell": {
     "cellMetadata": {
      "byteLimit": 2048000,
      "rowLimit": 10000
     },
     "inputWidgets": {},
     "nuid": "e387f77c-0b13-4130-be8d-5004442a00eb",
     "showTitle": false,
     "tableResultSettingsMap": {},
     "title": ""
    }
   },
   "outputs": [],
   "source": [
    "# Write features to the feature store\n",
    "fe.write_table(\n",
    "    name=feature_table_name,\n",
    "    df=df_features_final,\n",
    "    mode=\"merge\"\n",
    ")"
   ]
  },
  {
   "cell_type": "code",
   "execution_count": 0,
   "metadata": {
    "application/vnd.databricks.v1+cell": {
     "cellMetadata": {},
     "inputWidgets": {},
     "nuid": "8a7a9531-2a8a-4919-9005-ac7dacab1045",
     "showTitle": false,
     "tableResultSettingsMap": {},
     "title": ""
    }
   },
   "outputs": [],
   "source": []
  }
 ],
 "metadata": {
  "application/vnd.databricks.v1+notebook": {
   "computePreferences": null,
   "dashboards": [],
   "environmentMetadata": null,
   "inputWidgetPreferences": null,
   "language": "python",
   "notebookMetadata": {
    "pythonIndentUnit": 2
   },
   "notebookName": "01_feature_engineering",
   "widgets": {}
  },
  "language_info": {
   "name": "python"
  }
 },
 "nbformat": 4,
 "nbformat_minor": 0
}
