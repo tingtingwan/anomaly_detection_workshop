{
 "cells": [
  {
   "cell_type": "code",
   "execution_count": 0,
   "metadata": {
    "application/vnd.databricks.v1+cell": {
     "cellMetadata": {
      "byteLimit": 2048000,
      "implicitDf": true,
      "rowLimit": 10000
     },
     "inputWidgets": {},
     "nuid": "07944614-c36a-491d-a7f9-712fd2641ffd",
     "showTitle": false,
     "tableResultSettingsMap": {},
     "title": ""
    }
   },
   "outputs": [
    {
     "output_type": "display_data",
     "data": {
      "text/html": [
       "<style scoped>\n",
       "  .table-result-container {\n",
       "    max-height: 300px;\n",
       "    overflow: auto;\n",
       "  }\n",
       "  table, th, td {\n",
       "    border: 1px solid black;\n",
       "    border-collapse: collapse;\n",
       "  }\n",
       "  th, td {\n",
       "    padding: 5px;\n",
       "  }\n",
       "  th {\n",
       "    text-align: left;\n",
       "  }\n",
       "</style><div class='table-result-container'><table class='table-result'><thead style='background-color: white'><tr><th>Customer_ID</th><th>engagement_score</th><th>Days_Since_Last_Activity</th><th>Ebooks_Downloaded_6_Months</th><th>Average_Session_Time</th><th>anomaly_status</th><th>anomaly_explanation</th></tr></thead><tbody><tr><td>af9c4f66-5a1e-4882-a75f-74a0a31cb410</td><td>29.997</td><td>36.38</td><td>19</td><td>34.71</td><td>ANOMALY</td><td>This customer record is anomalous because the extremely high number of ebooks downloaded (19) and relatively high average session time (34.71) suggest a highly engaged customer, yet the engagement score is very low (29.997) and the customer has not been active in over 36 days. This discrepancy between high usage metrics and low engagement score indicates unusual behavior that may warrant further investigation.</td></tr><tr><td>0d43a9fb-b7c2-4fda-83c7-65a4d5d2e924</td><td>32.045</td><td>41.14</td><td>15</td><td>39.35</td><td>ANOMALY</td><td>This customer record is anomalous because the high number of ebooks downloaded (15) and relatively long average session time (39.35 minutes) suggest a highly engaged customer, yet the engagement score (32.045) is not exceptionally high and the days since last activity (41.14) indicate a significant period of inactivity. This discrepancy between high usage metrics and low engagement score/inactivity suggests unusual behavior that may warrant further investigation.</td></tr><tr><td>32f282dc-d94b-465b-aeb4-efa4f7f26869</td><td>35.33</td><td>57.16</td><td>41</td><td>32.9</td><td>ANOMALY</td><td>This customer record is anomalous because the extremely high number of ebooks downloaded (41) is unusually active, especially considering the relatively low engagement score (35.33) and long period of inactivity (57.16 days). This discrepancy suggests that the customer's behavior may not be consistent with typical patterns, warranting further investigation.</td></tr><tr><td>01980e2d-47ba-474b-a52d-17822f5f9550</td><td>36.367000000000004</td><td>11.72</td><td>12</td><td>46.81</td><td>ANOMALY</td><td>This customer record is anomalous because the high number of ebooks downloaded (12) and relatively long average session time (46.81 minutes) suggest a highly engaged customer, yet the engagement score is relatively low (36.37) and the customer has not been active in nearly 12 days. This discrepancy between the customer's past behavior and current inactivity raises questions about the accuracy of the engagement score or the customer's sudden loss of interest.</td></tr><tr><td>533c7fa1-ee10-4327-b2db-d816da386508</td><td>30.754999999999995</td><td>15.1</td><td>38</td><td>27.65</td><td>ANOMALY</td><td>This customer record is anomalous because the number of ebooks downloaded (38) is unusually high, suggesting potentially excessive or automated activity. The combination of this high ebook download count with a moderate engagement score and average session time raises suspicions about the authenticity of this customer's interactions.</td></tr></tbody></table></div>"
      ]
     },
     "metadata": {
      "application/vnd.databricks.v1+output": {
       "addedWidgets": {},
       "aggData": [],
       "aggError": "",
       "aggOverflow": false,
       "aggSchema": [],
       "aggSeriesLimitReached": false,
       "aggType": "",
       "arguments": {},
       "columnCustomDisplayInfos": {},
       "data": [
        [
         "af9c4f66-5a1e-4882-a75f-74a0a31cb410",
         29.997,
         36.38,
         19,
         34.71,
         "ANOMALY",
         "This customer record is anomalous because the extremely high number of ebooks downloaded (19) and relatively high average session time (34.71) suggest a highly engaged customer, yet the engagement score is very low (29.997) and the customer has not been active in over 36 days. This discrepancy between high usage metrics and low engagement score indicates unusual behavior that may warrant further investigation."
        ],
        [
         "0d43a9fb-b7c2-4fda-83c7-65a4d5d2e924",
         32.045,
         41.14,
         15,
         39.35,
         "ANOMALY",
         "This customer record is anomalous because the high number of ebooks downloaded (15) and relatively long average session time (39.35 minutes) suggest a highly engaged customer, yet the engagement score (32.045) is not exceptionally high and the days since last activity (41.14) indicate a significant period of inactivity. This discrepancy between high usage metrics and low engagement score/inactivity suggests unusual behavior that may warrant further investigation."
        ],
        [
         "32f282dc-d94b-465b-aeb4-efa4f7f26869",
         35.33,
         57.16,
         41,
         32.9,
         "ANOMALY",
         "This customer record is anomalous because the extremely high number of ebooks downloaded (41) is unusually active, especially considering the relatively low engagement score (35.33) and long period of inactivity (57.16 days). This discrepancy suggests that the customer's behavior may not be consistent with typical patterns, warranting further investigation."
        ],
        [
         "01980e2d-47ba-474b-a52d-17822f5f9550",
         36.367000000000004,
         11.72,
         12,
         46.81,
         "ANOMALY",
         "This customer record is anomalous because the high number of ebooks downloaded (12) and relatively long average session time (46.81 minutes) suggest a highly engaged customer, yet the engagement score is relatively low (36.37) and the customer has not been active in nearly 12 days. This discrepancy between the customer's past behavior and current inactivity raises questions about the accuracy of the engagement score or the customer's sudden loss of interest."
        ],
        [
         "533c7fa1-ee10-4327-b2db-d816da386508",
         30.754999999999995,
         15.1,
         38,
         27.65,
         "ANOMALY",
         "This customer record is anomalous because the number of ebooks downloaded (38) is unusually high, suggesting potentially excessive or automated activity. The combination of this high ebook download count with a moderate engagement score and average session time raises suspicions about the authenticity of this customer's interactions."
        ]
       ],
       "datasetInfos": [],
       "dbfsResultPath": null,
       "isJsonSchema": true,
       "metadata": {
        "createTempViewForImplicitDf": true,
        "dataframeName": "_sqldf",
        "executionCount": 2
       },
       "overflow": false,
       "plotOptions": {
        "customPlotOptions": {},
        "displayType": "table",
        "pivotAggregation": null,
        "pivotColumns": null,
        "xColumns": null,
        "yColumns": null
       },
       "removedWidgets": [],
       "schema": [
        {
         "metadata": "{}",
         "name": "Customer_ID",
         "type": "\"string\""
        },
        {
         "metadata": "{}",
         "name": "engagement_score",
         "type": "\"double\""
        },
        {
         "metadata": "{}",
         "name": "Days_Since_Last_Activity",
         "type": "\"double\""
        },
        {
         "metadata": "{}",
         "name": "Ebooks_Downloaded_6_Months",
         "type": "\"long\""
        },
        {
         "metadata": "{}",
         "name": "Average_Session_Time",
         "type": "\"double\""
        },
        {
         "metadata": "{}",
         "name": "anomaly_status",
         "type": "\"string\""
        },
        {
         "metadata": "{}",
         "name": "anomaly_explanation",
         "type": "\"string\""
        }
       ],
       "type": "table"
      }
     },
     "output_type": "display_data"
    }
   ],
   "source": [
    "%sql\n",
    "-- Demo: Explain Customer Anomalies using ai_query()\n",
    "-- This can be run directly in Databricks SQL or added to a DLT pipeline\n",
    "\n",
    "-- Option 1: Direct SQL query to explain anomalies\n",
    "SELECT \n",
    "    Customer_ID,\n",
    "    engagement_score,\n",
    "    Days_Since_Last_Activity,\n",
    "    Ebooks_Downloaded_6_Months,\n",
    "    Average_Session_Time,\n",
    "    anomaly_status,\n",
    "    ai_query(\n",
    "        'databricks-meta-llama-3-3-70b-instruct',\n",
    "        CONCAT(\n",
    "            'Explain why this customer record is anomalous: ',\n",
    "            'Customer ID: ', Customer_ID, ', ',\n",
    "            'Engagement Score: ', CAST(engagement_score AS STRING), ', ',\n",
    "            'Days Since Last Activity: ', CAST(Days_Since_Last_Activity AS STRING), ', ',\n",
    "            'Ebooks Downloaded: ', CAST(Ebooks_Downloaded_6_Months AS STRING), ', ',\n",
    "            'Average Session Time: ', CAST(Average_Session_Time AS STRING), '. ',\n",
    "            'Provide a brief 1-2 sentence explanation.'\n",
    "        ),\n",
    "        modelParameters => named_struct('max_tokens', 100, 'temperature', 0.3)\n",
    "    ) AS anomaly_explanation\n",
    "FROM main.ttw_workshop_demo.gold_batch_predictions\n",
    "WHERE anomaly_status = 'ANOMALY'\n",
    "LIMIT 5;\n"
   ]
  }
 ],
 "metadata": {
  "application/vnd.databricks.v1+notebook": {
   "computePreferences": null,
   "dashboards": [],
   "environmentMetadata": {
    "base_environment": "",
    "environment_version": "2"
   },
   "inputWidgetPreferences": null,
   "language": "python",
   "notebookMetadata": {
    "mostRecentlyExecutedCommandWithImplicitDF": {
     "commandId": 7018337559884510,
     "dataframes": [
      "_sqldf"
     ]
    },
    "pythonIndentUnit": 2
   },
   "notebookName": "BONUS-ai-query-anomaly-detection",
   "widgets": {}
  },
  "language_info": {
   "name": "python"
  }
 },
 "nbformat": 4,
 "nbformat_minor": 0
}